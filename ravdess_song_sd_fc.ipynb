{
  "nbformat": 4,
  "nbformat_minor": 0,
  "metadata": {
    "colab": {
      "name": "Untitled0.ipynb",
      "provenance": [],
      "authorship_tag": "ABX9TyPumjaIBZsL3zhF0VU2L4sr",
      "include_colab_link": true
    },
    "kernelspec": {
      "name": "python3",
      "display_name": "Python 3"
    },
    "language_info": {
      "name": "python"
    }
  },
  "cells": [
    {
      "cell_type": "markdown",
      "metadata": {
        "id": "view-in-github",
        "colab_type": "text"
      },
      "source": [
        "<a href=\"https://colab.research.google.com/github/bagustris/ravdess_song/blob/main/ravdess_song_sd_fc.ipynb\" target=\"_parent\"><img src=\"https://colab.research.google.com/assets/colab-badge.svg\" alt=\"Open In Colab\"/></a>"
      ]
    },
    {
      "cell_type": "markdown",
      "metadata": {
        "id": "ZcelxTz8sT6q"
      },
      "source": [
        "# RAVDESS Song Emotion Recognition"
      ]
    },
    {
      "cell_type": "code",
      "metadata": {
        "id": "rbMKAfNesYuy"
      },
      "source": [
        "import glob\n",
        "import os\n",
        "import librosa\n",
        "import numpy as np\n",
        "from sklearn.model_selection import train_test_split\n",
        "import tensorflow as tf"
      ],
      "execution_count": null,
      "outputs": []
    },
    {
      "cell_type": "code",
      "metadata": {
        "colab": {
          "base_uri": "https://localhost:8080/"
        },
        "id": "8T0F32ZRCrAG",
        "outputId": "d4f5febf-4de2-43d5-eb19-308fd9193d23"
      },
      "source": [
        "!git clone https://github.com/bagustris/ravdess_song.git"
      ],
      "execution_count": null,
      "outputs": [
        {
          "output_type": "stream",
          "name": "stdout",
          "text": [
            "Cloning into 'ravdess_song'...\n",
            "remote: Enumerating objects: 1107, done.\u001b[K\n",
            "remote: Counting objects: 100% (50/50), done.\u001b[K\n",
            "remote: Compressing objects: 100% (40/40), done.\u001b[K\n",
            "remote: Total 1107 (delta 23), reused 25 (delta 10), pack-reused 1057\u001b[K\n",
            "Receiving objects: 100% (1107/1107), 230.81 MiB | 25.02 MiB/s, done.\n",
            "Resolving deltas: 100% (27/27), done.\n",
            "Checking out files: 100% (1029/1029), done.\n"
          ]
        }
      ]
    },
    {
      "cell_type": "code",
      "metadata": {
        "colab": {
          "base_uri": "https://localhost:8080/"
        },
        "id": "b33LC9_DC0gv",
        "outputId": "f5dfb61a-29b8-43cc-9c8f-90e8f5200130"
      },
      "source": [
        "cd ravdess_song/"
      ],
      "execution_count": null,
      "outputs": [
        {
          "output_type": "stream",
          "name": "stdout",
          "text": [
            "/content/ravdess_song\n"
          ]
        }
      ]
    },
    {
      "cell_type": "code",
      "metadata": {
        "id": "v-GeKPDqByHj"
      },
      "source": [
        "# list all files in the dataset\n",
        "data_path = 'archive'\n",
        "files = glob.glob(os.path.join(data_path + '/*/', '*.wav'))\n",
        "files.sort()"
      ],
      "execution_count": null,
      "outputs": []
    },
    {
      "cell_type": "code",
      "metadata": {
        "colab": {
          "base_uri": "https://localhost:8080/",
          "height": 35
        },
        "id": "QoeTr6I7B2jM",
        "outputId": "37abd4e3-6272-47e4-dcd5-2db8a2af8097"
      },
      "source": [
        "# check by showing the first file\n",
        "files[0]"
      ],
      "execution_count": null,
      "outputs": [
        {
          "output_type": "execute_result",
          "data": {
            "application/vnd.google.colaboratory.intrinsic+json": {
              "type": "string"
            },
            "text/plain": [
              "'archive/Actor_01/03-02-01-01-01-01-01.wav'"
            ]
          },
          "metadata": {},
          "execution_count": 5
        }
      ]
    },
    {
      "cell_type": "code",
      "metadata": {
        "id": "XJoGe3YlB7tD"
      },
      "source": [
        "# function to extract feature\n",
        "def extract_feature(file_name):\n",
        "    X, sample_rate = librosa.load(file_name, sr=None)\n",
        "    stft = np.abs(librosa.stft(X))\n",
        "    mfcc = np.mean(librosa.feature.mfcc(\n",
        "        y=X, sr=sample_rate, n_mfcc=40).T, axis=0)\n",
        "    mfcc_std = np.std(librosa.feature.mfcc(\n",
        "        y=X, sr=sample_rate, n_mfcc=40).T, axis=0)\n",
        "    chroma = np.mean(librosa.feature.chroma_stft(\n",
        "        S=stft, sr=sample_rate).T, axis=0)\n",
        "    chroma_std = np.std(librosa.feature.chroma_stft(\n",
        "        S=stft, sr=sample_rate).T, axis=0)\n",
        "    mel = np.mean(librosa.feature.melspectrogram(X, sr=sample_rate).T, axis=0)\n",
        "    mel_std = np.std(librosa.feature.melspectrogram(\n",
        "        X, sr=sample_rate).T, axis=0)\n",
        "    contrast = np.mean(librosa.feature.spectral_contrast(\n",
        "        S=stft, sr=sample_rate).T, axis=0)\n",
        "    contrast_std = np.std(librosa.feature.spectral_contrast(\n",
        "        S=stft, sr=sample_rate).T, axis=0)\n",
        "    tonnetz = np.mean(librosa.feature.tonnetz(\n",
        "        y=librosa.effects.harmonic(X), sr=sample_rate).T, axis=0)\n",
        "    tonnetz_std = np.std(librosa.feature.tonnetz(\n",
        "        y=librosa.effects.harmonic(X), sr=sample_rate).T, axis=0)\n",
        "    return (mfcc, chroma, mel, contrast, tonnetz,\n",
        "            mfcc_std, chroma_std, mel_std, contrast_std, tonnetz_std)"
      ],
      "execution_count": null,
      "outputs": []
    },
    {
      "cell_type": "code",
      "metadata": {
        "id": "FSPjngmCFZFF"
      },
      "source": [
        "# create empty list to store features and labels\n",
        "feat = []\n",
        "lab = []"
      ],
      "execution_count": null,
      "outputs": []
    },
    {
      "cell_type": "code",
      "metadata": {
        "colab": {
          "base_uri": "https://localhost:8080/"
        },
        "id": "skBe0cvLFZkW",
        "outputId": "1b5fa0f1-180b-4b27-eb92-b41cd7329f7b"
      },
      "source": [
        "# iterate over all files\n",
        "for file in files:\n",
        "    print(\"processing ...\", file)\n",
        "    feat_i = np.hstack(extract_feature(file))\n",
        "    lab_i = os.path.basename(file).split('-')[2]\n",
        "    feat.append(feat_i)\n",
        "    lab.append(int(lab_i)-1)  # make labels start from 0"
      ],
      "execution_count": null,
      "outputs": [
        {
          "output_type": "stream",
          "name": "stdout",
          "text": [
            "processing ... archive/Actor_01/03-02-01-01-01-01-01.wav\n",
            "processing ... archive/Actor_01/03-02-01-01-01-02-01.wav\n",
            "processing ... archive/Actor_01/03-02-01-01-02-01-01.wav\n",
            "processing ... archive/Actor_01/03-02-01-01-02-02-01.wav\n",
            "processing ... archive/Actor_01/03-02-02-01-01-01-01.wav\n",
            "processing ... archive/Actor_01/03-02-02-01-01-02-01.wav\n",
            "processing ... archive/Actor_01/03-02-02-01-02-01-01.wav\n",
            "processing ... archive/Actor_01/03-02-02-01-02-02-01.wav\n",
            "processing ... archive/Actor_01/03-02-02-02-01-01-01.wav\n",
            "processing ... archive/Actor_01/03-02-02-02-01-02-01.wav\n",
            "processing ... archive/Actor_01/03-02-02-02-02-01-01.wav\n",
            "processing ... archive/Actor_01/03-02-02-02-02-02-01.wav\n",
            "processing ... archive/Actor_01/03-02-03-01-01-01-01.wav\n",
            "processing ... archive/Actor_01/03-02-03-01-01-02-01.wav\n",
            "processing ... archive/Actor_01/03-02-03-01-02-01-01.wav\n",
            "processing ... archive/Actor_01/03-02-03-01-02-02-01.wav\n",
            "processing ... archive/Actor_01/03-02-03-02-01-01-01.wav\n",
            "processing ... archive/Actor_01/03-02-03-02-01-02-01.wav\n",
            "processing ... archive/Actor_01/03-02-03-02-02-01-01.wav\n",
            "processing ... archive/Actor_01/03-02-03-02-02-02-01.wav\n",
            "processing ... archive/Actor_01/03-02-04-01-01-01-01.wav\n",
            "processing ... archive/Actor_01/03-02-04-01-01-02-01.wav\n",
            "processing ... archive/Actor_01/03-02-04-01-02-01-01.wav\n",
            "processing ... archive/Actor_01/03-02-04-01-02-02-01.wav\n",
            "processing ... archive/Actor_01/03-02-04-02-01-01-01.wav\n",
            "processing ... archive/Actor_01/03-02-04-02-01-02-01.wav\n",
            "processing ... archive/Actor_01/03-02-04-02-02-01-01.wav\n",
            "processing ... archive/Actor_01/03-02-04-02-02-02-01.wav\n",
            "processing ... archive/Actor_01/03-02-05-01-01-01-01.wav\n",
            "processing ... archive/Actor_01/03-02-05-01-01-02-01.wav\n",
            "processing ... archive/Actor_01/03-02-05-01-02-01-01.wav\n",
            "processing ... archive/Actor_01/03-02-05-01-02-02-01.wav\n",
            "processing ... archive/Actor_01/03-02-05-02-01-01-01.wav\n",
            "processing ... archive/Actor_01/03-02-05-02-01-02-01.wav\n",
            "processing ... archive/Actor_01/03-02-05-02-02-01-01.wav\n",
            "processing ... archive/Actor_01/03-02-05-02-02-02-01.wav\n",
            "processing ... archive/Actor_01/03-02-06-01-01-01-01.wav\n",
            "processing ... archive/Actor_01/03-02-06-01-01-02-01.wav\n",
            "processing ... archive/Actor_01/03-02-06-01-02-01-01.wav\n",
            "processing ... archive/Actor_01/03-02-06-01-02-02-01.wav\n",
            "processing ... archive/Actor_01/03-02-06-02-01-01-01.wav\n",
            "processing ... archive/Actor_01/03-02-06-02-01-02-01.wav\n",
            "processing ... archive/Actor_01/03-02-06-02-02-01-01.wav\n",
            "processing ... archive/Actor_01/03-02-06-02-02-02-01.wav\n",
            "processing ... archive/Actor_02/03-02-01-01-01-01-02.wav\n",
            "processing ... archive/Actor_02/03-02-01-01-01-02-02.wav\n",
            "processing ... archive/Actor_02/03-02-01-01-02-01-02.wav\n",
            "processing ... archive/Actor_02/03-02-01-01-02-02-02.wav\n",
            "processing ... archive/Actor_02/03-02-02-01-01-01-02.wav\n",
            "processing ... archive/Actor_02/03-02-02-01-01-02-02.wav\n",
            "processing ... archive/Actor_02/03-02-02-01-02-01-02.wav\n",
            "processing ... archive/Actor_02/03-02-02-01-02-02-02.wav\n",
            "processing ... archive/Actor_02/03-02-02-02-01-01-02.wav\n",
            "processing ... archive/Actor_02/03-02-02-02-01-02-02.wav\n",
            "processing ... archive/Actor_02/03-02-02-02-02-01-02.wav\n",
            "processing ... archive/Actor_02/03-02-02-02-02-02-02.wav\n",
            "processing ... archive/Actor_02/03-02-03-01-01-01-02.wav\n",
            "processing ... archive/Actor_02/03-02-03-01-01-02-02.wav\n",
            "processing ... archive/Actor_02/03-02-03-01-02-01-02.wav\n",
            "processing ... archive/Actor_02/03-02-03-01-02-02-02.wav\n",
            "processing ... archive/Actor_02/03-02-03-02-01-01-02.wav\n",
            "processing ... archive/Actor_02/03-02-03-02-01-02-02.wav\n",
            "processing ... archive/Actor_02/03-02-03-02-02-01-02.wav\n",
            "processing ... archive/Actor_02/03-02-03-02-02-02-02.wav\n",
            "processing ... archive/Actor_02/03-02-04-01-01-01-02.wav\n",
            "processing ... archive/Actor_02/03-02-04-01-01-02-02.wav\n",
            "processing ... archive/Actor_02/03-02-04-01-02-01-02.wav\n",
            "processing ... archive/Actor_02/03-02-04-01-02-02-02.wav\n",
            "processing ... archive/Actor_02/03-02-04-02-01-01-02.wav\n",
            "processing ... archive/Actor_02/03-02-04-02-01-02-02.wav\n",
            "processing ... archive/Actor_02/03-02-04-02-02-01-02.wav\n",
            "processing ... archive/Actor_02/03-02-04-02-02-02-02.wav\n",
            "processing ... archive/Actor_02/03-02-05-01-01-01-02.wav\n",
            "processing ... archive/Actor_02/03-02-05-01-01-02-02.wav\n",
            "processing ... archive/Actor_02/03-02-05-01-02-01-02.wav\n",
            "processing ... archive/Actor_02/03-02-05-01-02-02-02.wav\n",
            "processing ... archive/Actor_02/03-02-05-02-01-01-02.wav\n",
            "processing ... archive/Actor_02/03-02-05-02-01-02-02.wav\n",
            "processing ... archive/Actor_02/03-02-05-02-02-01-02.wav\n",
            "processing ... archive/Actor_02/03-02-05-02-02-02-02.wav\n",
            "processing ... archive/Actor_02/03-02-06-01-01-01-02.wav\n",
            "processing ... archive/Actor_02/03-02-06-01-01-02-02.wav\n",
            "processing ... archive/Actor_02/03-02-06-01-02-01-02.wav\n",
            "processing ... archive/Actor_02/03-02-06-01-02-02-02.wav\n",
            "processing ... archive/Actor_02/03-02-06-02-01-01-02.wav\n",
            "processing ... archive/Actor_02/03-02-06-02-01-02-02.wav\n",
            "processing ... archive/Actor_02/03-02-06-02-02-01-02.wav\n",
            "processing ... archive/Actor_02/03-02-06-02-02-02-02.wav\n",
            "processing ... archive/Actor_03/03-02-01-01-01-01-03.wav\n",
            "processing ... archive/Actor_03/03-02-01-01-01-02-03.wav\n",
            "processing ... archive/Actor_03/03-02-01-01-02-01-03.wav\n",
            "processing ... archive/Actor_03/03-02-01-01-02-02-03.wav\n",
            "processing ... archive/Actor_03/03-02-02-01-01-01-03.wav\n",
            "processing ... archive/Actor_03/03-02-02-01-01-02-03.wav\n",
            "processing ... archive/Actor_03/03-02-02-01-02-01-03.wav\n",
            "processing ... archive/Actor_03/03-02-02-01-02-02-03.wav\n",
            "processing ... archive/Actor_03/03-02-02-02-01-01-03.wav\n",
            "processing ... archive/Actor_03/03-02-02-02-01-02-03.wav\n",
            "processing ... archive/Actor_03/03-02-02-02-02-01-03.wav\n",
            "processing ... archive/Actor_03/03-02-02-02-02-02-03.wav\n",
            "processing ... archive/Actor_03/03-02-03-01-01-01-03.wav\n",
            "processing ... archive/Actor_03/03-02-03-01-01-02-03.wav\n",
            "processing ... archive/Actor_03/03-02-03-01-02-01-03.wav\n",
            "processing ... archive/Actor_03/03-02-03-01-02-02-03.wav\n",
            "processing ... archive/Actor_03/03-02-03-02-01-01-03.wav\n",
            "processing ... archive/Actor_03/03-02-03-02-01-02-03.wav\n",
            "processing ... archive/Actor_03/03-02-03-02-02-01-03.wav\n",
            "processing ... archive/Actor_03/03-02-03-02-02-02-03.wav\n",
            "processing ... archive/Actor_03/03-02-04-01-01-01-03.wav\n",
            "processing ... archive/Actor_03/03-02-04-01-01-02-03.wav\n",
            "processing ... archive/Actor_03/03-02-04-01-02-01-03.wav\n",
            "processing ... archive/Actor_03/03-02-04-01-02-02-03.wav\n",
            "processing ... archive/Actor_03/03-02-04-02-01-01-03.wav\n",
            "processing ... archive/Actor_03/03-02-04-02-01-02-03.wav\n",
            "processing ... archive/Actor_03/03-02-04-02-02-01-03.wav\n",
            "processing ... archive/Actor_03/03-02-04-02-02-02-03.wav\n",
            "processing ... archive/Actor_03/03-02-05-01-01-01-03.wav\n",
            "processing ... archive/Actor_03/03-02-05-01-01-02-03.wav\n",
            "processing ... archive/Actor_03/03-02-05-01-02-01-03.wav\n",
            "processing ... archive/Actor_03/03-02-05-01-02-02-03.wav\n",
            "processing ... archive/Actor_03/03-02-05-02-01-01-03.wav\n",
            "processing ... archive/Actor_03/03-02-05-02-01-02-03.wav\n",
            "processing ... archive/Actor_03/03-02-05-02-02-01-03.wav\n",
            "processing ... archive/Actor_03/03-02-05-02-02-02-03.wav\n",
            "processing ... archive/Actor_03/03-02-06-01-01-01-03.wav\n",
            "processing ... archive/Actor_03/03-02-06-01-01-02-03.wav\n",
            "processing ... archive/Actor_03/03-02-06-01-02-01-03.wav\n",
            "processing ... archive/Actor_03/03-02-06-01-02-02-03.wav\n",
            "processing ... archive/Actor_03/03-02-06-02-01-01-03.wav\n",
            "processing ... archive/Actor_03/03-02-06-02-01-02-03.wav\n",
            "processing ... archive/Actor_03/03-02-06-02-02-01-03.wav\n",
            "processing ... archive/Actor_03/03-02-06-02-02-02-03.wav\n",
            "processing ... archive/Actor_04/03-02-01-01-01-01-04.wav\n",
            "processing ... archive/Actor_04/03-02-01-01-01-02-04.wav\n",
            "processing ... archive/Actor_04/03-02-01-01-02-01-04.wav\n",
            "processing ... archive/Actor_04/03-02-01-01-02-02-04.wav\n",
            "processing ... archive/Actor_04/03-02-02-01-01-01-04.wav\n",
            "processing ... archive/Actor_04/03-02-02-01-01-02-04.wav\n",
            "processing ... archive/Actor_04/03-02-02-01-02-01-04.wav\n",
            "processing ... archive/Actor_04/03-02-02-01-02-02-04.wav\n",
            "processing ... archive/Actor_04/03-02-02-02-01-01-04.wav\n",
            "processing ... archive/Actor_04/03-02-02-02-01-02-04.wav\n",
            "processing ... archive/Actor_04/03-02-02-02-02-01-04.wav\n",
            "processing ... archive/Actor_04/03-02-02-02-02-02-04.wav\n",
            "processing ... archive/Actor_04/03-02-03-01-01-01-04.wav\n",
            "processing ... archive/Actor_04/03-02-03-01-01-02-04.wav\n",
            "processing ... archive/Actor_04/03-02-03-01-02-01-04.wav\n",
            "processing ... archive/Actor_04/03-02-03-01-02-02-04.wav\n",
            "processing ... archive/Actor_04/03-02-03-02-01-01-04.wav\n",
            "processing ... archive/Actor_04/03-02-03-02-01-02-04.wav\n",
            "processing ... archive/Actor_04/03-02-03-02-02-01-04.wav\n",
            "processing ... archive/Actor_04/03-02-03-02-02-02-04.wav\n",
            "processing ... archive/Actor_04/03-02-04-01-01-01-04.wav\n",
            "processing ... archive/Actor_04/03-02-04-01-01-02-04.wav\n",
            "processing ... archive/Actor_04/03-02-04-01-02-01-04.wav\n",
            "processing ... archive/Actor_04/03-02-04-01-02-02-04.wav\n",
            "processing ... archive/Actor_04/03-02-04-02-01-01-04.wav\n",
            "processing ... archive/Actor_04/03-02-04-02-01-02-04.wav\n",
            "processing ... archive/Actor_04/03-02-04-02-02-01-04.wav\n",
            "processing ... archive/Actor_04/03-02-04-02-02-02-04.wav\n",
            "processing ... archive/Actor_04/03-02-05-01-01-01-04.wav\n",
            "processing ... archive/Actor_04/03-02-05-01-01-02-04.wav\n",
            "processing ... archive/Actor_04/03-02-05-01-02-01-04.wav\n",
            "processing ... archive/Actor_04/03-02-05-01-02-02-04.wav\n",
            "processing ... archive/Actor_04/03-02-05-02-01-01-04.wav\n",
            "processing ... archive/Actor_04/03-02-05-02-01-02-04.wav\n",
            "processing ... archive/Actor_04/03-02-05-02-02-01-04.wav\n",
            "processing ... archive/Actor_04/03-02-05-02-02-02-04.wav\n",
            "processing ... archive/Actor_04/03-02-06-01-01-01-04.wav\n",
            "processing ... archive/Actor_04/03-02-06-01-01-02-04.wav\n",
            "processing ... archive/Actor_04/03-02-06-01-02-01-04.wav\n",
            "processing ... archive/Actor_04/03-02-06-01-02-02-04.wav\n",
            "processing ... archive/Actor_04/03-02-06-02-01-01-04.wav\n",
            "processing ... archive/Actor_04/03-02-06-02-01-02-04.wav\n",
            "processing ... archive/Actor_04/03-02-06-02-02-01-04.wav\n",
            "processing ... archive/Actor_04/03-02-06-02-02-02-04.wav\n",
            "processing ... archive/Actor_05/03-02-01-01-01-01-05.wav\n",
            "processing ... archive/Actor_05/03-02-01-01-01-02-05.wav\n",
            "processing ... archive/Actor_05/03-02-01-01-02-01-05.wav\n",
            "processing ... archive/Actor_05/03-02-01-01-02-02-05.wav\n",
            "processing ... archive/Actor_05/03-02-02-01-01-01-05.wav\n",
            "processing ... archive/Actor_05/03-02-02-01-01-02-05.wav\n",
            "processing ... archive/Actor_05/03-02-02-01-02-01-05.wav\n",
            "processing ... archive/Actor_05/03-02-02-01-02-02-05.wav\n",
            "processing ... archive/Actor_05/03-02-02-02-01-01-05.wav\n",
            "processing ... archive/Actor_05/03-02-02-02-01-02-05.wav\n",
            "processing ... archive/Actor_05/03-02-02-02-02-01-05.wav\n",
            "processing ... archive/Actor_05/03-02-02-02-02-02-05.wav\n",
            "processing ... archive/Actor_05/03-02-03-01-01-01-05.wav\n",
            "processing ... archive/Actor_05/03-02-03-01-01-02-05.wav\n",
            "processing ... archive/Actor_05/03-02-03-01-02-01-05.wav\n",
            "processing ... archive/Actor_05/03-02-03-01-02-02-05.wav\n",
            "processing ... archive/Actor_05/03-02-03-02-01-01-05.wav\n",
            "processing ... archive/Actor_05/03-02-03-02-01-02-05.wav\n",
            "processing ... archive/Actor_05/03-02-03-02-02-01-05.wav\n",
            "processing ... archive/Actor_05/03-02-03-02-02-02-05.wav\n"
          ]
        }
      ]
    },
    {
      "cell_type": "code",
      "metadata": {
        "id": "5B83U47fFcPB"
      },
      "source": [
        "len(feat)\n",
        "len(lab)"
      ],
      "execution_count": null,
      "outputs": []
    },
    {
      "cell_type": "code",
      "metadata": {
        "id": "EqT-75OvbIhJ"
      },
      "source": [
        "# assign hsf to X, lab to y; reshape X for LSTM\n",
        "X = np.array(feat)\n",
        "y = np.array(lab)"
      ],
      "execution_count": null,
      "outputs": []
    },
    {
      "cell_type": "code",
      "metadata": {
        "id": "7NXlWrDCb55v"
      },
      "source": [
        "# reshape x untuk lstm\n",
        "X = X.reshape((X.shape[0], 1, X.shape[1]))"
      ],
      "execution_count": null,
      "outputs": []
    },
    {
      "cell_type": "code",
      "metadata": {
        "id": "o0mM3RbKcI82"
      },
      "source": [
        "# split into train and test\n",
        "x_train, x_test, y_train, y_test = train_test_split(X, y, test_size=0.1)"
      ],
      "execution_count": null,
      "outputs": []
    },
    {
      "cell_type": "code",
      "metadata": {
        "id": "aq0SbnHTcMGG"
      },
      "source": [
        "# functio to build MLP/FC model}\n",
        "def model_dense():\n",
        "    model = tf.keras.models.Sequential()\n",
        "    model.add(tf.keras.layers.BatchNormalization(axis=-1,\n",
        "              input_shape=(x_train.shape[1], x_train.shape[2])))\n",
        "    model.add(tf.keras.layers.Dense(256, activation='relu'))\n",
        "    model.add(tf.keras.layers.Dense(256, activation='relu'))\n",
        "    model.add(tf.keras.layers.Dense(256, activation='relu')))\n",
        "    model.add(tf.keras.layers.Dropout(0.4))\n",
        "    model.add(tf.keras.layers.Dense(6, activation='softmax'))\n",
        "\n",
        "    # compile model: set loss, optimizer, metric\n",
        "    model.compile(loss=tf.keras.losses.SparseCategoricalCrossentropy(),\n",
        "                  optimizer=tf.keras.optimizers.Adam(),\n",
        "                  metrics=['accuracy'])\n",
        "    return model\n"
      ],
      "execution_count": null,
      "outputs": []
    },
    {
      "cell_type": "code",
      "metadata": {
        "id": "-vT5MfXXcX2N"
      },
      "source": [
        "# create the model\n",
        "model = model_dense()\n",
        "print(model.summary())"
      ],
      "execution_count": null,
      "outputs": []
    },
    {
      "cell_type": "code",
      "metadata": {
        "id": "FXO6TWIFcbxA"
      },
      "source": [
        "# train the Dense model\n",
        "hist = model.fit(x_train, y_train, epochs=100, shuffle=True, batch_size=16)"
      ],
      "execution_count": null,
      "outputs": []
    },
    {
      "cell_type": "code",
      "metadata": {
        "id": "Fnlc0bficqpE"
      },
      "source": [
        "evaluate = model.evaluate(x_test, y_test, batch_size=16)\n",
        "print(\"Loss: \", evaluate[0], \"--> Accuracy: \", evaluate[1])"
      ],
      "execution_count": null,
      "outputs": []
    },
    {
      "cell_type": "code",
      "metadata": {
        "id": "7rv23Ud6fNm6"
      },
      "source": [
        ""
      ],
      "execution_count": null,
      "outputs": []
    }
  ]
}