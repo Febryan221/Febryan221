{
  "nbformat": 4,
  "nbformat_minor": 0,
  "metadata": {
    "colab": {
      "name": "Untitled0.ipynb",
      "provenance": [],
      "authorship_tag": "ABX9TyOyUOFNNlSsy4uu0BtpomrT",
      "include_colab_link": true
    },
    "kernelspec": {
      "name": "python3",
      "display_name": "Python 3"
    },
    "language_info": {
      "name": "python"
    }
  },
  "cells": [
    {
      "cell_type": "markdown",
      "metadata": {
        "id": "view-in-github",
        "colab_type": "text"
      },
      "source": [
        "<a href=\"https://colab.research.google.com/github/bagustris/ravdess_song/blob/main/ravdess_song_si_cnn.ipynb\" target=\"_parent\"><img src=\"https://colab.research.google.com/assets/colab-badge.svg\" alt=\"Open In Colab\"/></a>"
      ]
    },
    {
      "cell_type": "markdown",
      "metadata": {
        "id": "ZcelxTz8sT6q"
      },
      "source": [
        "# RAVDESS Song Emotion Recognition"
      ]
    },
    {
      "cell_type": "code",
      "metadata": {
        "id": "rbMKAfNesYuy"
      },
      "source": [
        "import glob\n",
        "import os\n",
        "import librosa\n",
        "import numpy as np\n",
        "import tensorflow as tf"
      ],
      "execution_count": 1,
      "outputs": []
    },
    {
      "cell_type": "code",
      "metadata": {
        "colab": {
          "base_uri": "https://localhost:8080/"
        },
        "id": "tM7RnOezcSdt",
        "outputId": "bc7d85b7-231c-472d-b2cc-3c1802a3abf9"
      },
      "source": [
        "!git clone https://github.com/bagustris/ravdess_song.git"
      ],
      "execution_count": 3,
      "outputs": [
        {
          "output_type": "stream",
          "name": "stdout",
          "text": [
            "Cloning into 'ravdess_song'...\n",
            "remote: Enumerating objects: 1159, done.\u001b[K\n",
            "remote: Counting objects: 100% (102/102), done.\u001b[K\n",
            "remote: Compressing objects: 100% (90/90), done.\u001b[K\n",
            "remote: Total 1159 (delta 57), reused 32 (delta 12), pack-reused 1057\u001b[K\n",
            "Receiving objects: 100% (1159/1159), 232.31 MiB | 24.91 MiB/s, done.\n",
            "Resolving deltas: 100% (61/61), done.\n",
            "Checking out files: 100% (1030/1030), done.\n"
          ]
        }
      ]
    },
    {
      "cell_type": "code",
      "metadata": {
        "colab": {
          "base_uri": "https://localhost:8080/"
        },
        "id": "KWVfE7MrcU1q",
        "outputId": "0375e811-75ae-49b6-d1b4-bc5e602ae757"
      },
      "source": [
        "cd ravdess_song"
      ],
      "execution_count": 4,
      "outputs": [
        {
          "output_type": "stream",
          "name": "stdout",
          "text": [
            "/content/ravdess_song\n"
          ]
        }
      ]
    },
    {
      "cell_type": "code",
      "metadata": {
        "id": "uwDICG5RcoHo"
      },
      "source": [
        "# load extracted features\n",
        "x_train = np.load('data/x_train.npy', allow_pickle=True)\n",
        "x_test = np.load('data/x_test.npy', allow_pickle=True)\n",
        "y_train = np.load('data/y_train.npy', allow_pickle=True)\n",
        "y_test = np.load('data/y_test.npy', allow_pickle=True)\n"
      ],
      "execution_count": 11,
      "outputs": []
    },
    {
      "cell_type": "code",
      "metadata": {
        "id": "0EyQmU8Gc9KX"
      },
      "source": [
        "# reshape X for CNN\n",
        "x_train = x_train.reshape(x_train.shape[0], x_train.shape[1], 1)\n",
        "x_test = x_test.reshape(x_test.shape[0], x_test.shape[1], 1)\n"
      ],
      "execution_count": 12,
      "outputs": []
    },
    {
      "cell_type": "code",
      "metadata": {
        "id": "j7cuaEPsdNmi"
      },
      "source": [
        "def model_cnn():\n",
        "    model = tf.keras.models.Sequential()\n",
        "    model.add(tf.keras.layers.BatchNormalization(axis=-1,\n",
        "              input_shape=(x_train.shape[1], x_train.shape[2])))\n",
        "    model.add(tf.keras.layers.Conv1D(256, 128, 1, padding='same'))\n",
        "    model.add(tf.keras.layers.Activation('relu'))\n",
        "    model.add(tf.keras.layers.MaxPooling1D(2))\n",
        "    model.add(tf.keras.layers.Flatten())\n",
        "    model.add(tf.keras.layers.Dropout(0.4))\n",
        "    model.add(tf.keras.layers.Dense(6, activation='softmax'))\n",
        "\n",
        "    # compile model: set loss, optimizer, metric\n",
        "    model.compile(loss=tf.keras.losses.SparseCategoricalCrossentropy(),\n",
        "                  optimizer=tf.keras.optimizers.Adam(),\n",
        "                  metrics=['accuracy'])\n",
        "    return model"
      ],
      "execution_count": 15,
      "outputs": []
    },
    {
      "cell_type": "code",
      "metadata": {
        "colab": {
          "base_uri": "https://localhost:8080/"
        },
        "id": "GtfC1aFidTwL",
        "outputId": "fe5face6-15eb-4cd0-d8a9-4fe8b266a0ee"
      },
      "source": [
        "model = model_cnn()\n",
        "model.summary()"
      ],
      "execution_count": 16,
      "outputs": [
        {
          "output_type": "stream",
          "name": "stdout",
          "text": [
            "Model: \"sequential_2\"\n",
            "_________________________________________________________________\n",
            "Layer (type)                 Output Shape              Param #   \n",
            "=================================================================\n",
            "batch_normalization (BatchNo (None, 386, 1)            4         \n",
            "_________________________________________________________________\n",
            "conv1d (Conv1D)              (None, 386, 256)          33024     \n",
            "_________________________________________________________________\n",
            "activation (Activation)      (None, 386, 256)          0         \n",
            "_________________________________________________________________\n",
            "max_pooling1d (MaxPooling1D) (None, 193, 256)          0         \n",
            "_________________________________________________________________\n",
            "flatten (Flatten)            (None, 49408)             0         \n",
            "_________________________________________________________________\n",
            "dropout (Dropout)            (None, 49408)             0         \n",
            "_________________________________________________________________\n",
            "dense (Dense)                (None, 6)                 296454    \n",
            "=================================================================\n",
            "Total params: 329,482\n",
            "Trainable params: 329,480\n",
            "Non-trainable params: 2\n",
            "_________________________________________________________________\n"
          ]
        }
      ]
    },
    {
      "cell_type": "code",
      "metadata": {
        "colab": {
          "base_uri": "https://localhost:8080/"
        },
        "id": "tZdJ-vpZdYRS",
        "outputId": "573e304f-e66d-46b4-bea3-6249cdf7f872"
      },
      "source": [
        "# train CNN model\n",
        "hist = model.fit(x_train, y_train, epochs=100, shuffle=True, batch_size=16)"
      ],
      "execution_count": null,
      "outputs": [
        {
          "output_type": "stream",
          "name": "stdout",
          "text": [
            "Epoch 1/100\n",
            "53/53 [==============================] - 4s 62ms/step - loss: 1.7908 - accuracy: 0.2644\n",
            "Epoch 2/100\n",
            "53/53 [==============================] - 3s 61ms/step - loss: 1.5642 - accuracy: 0.3409\n",
            "Epoch 3/100\n",
            "53/53 [==============================] - 3s 62ms/step - loss: 1.4308 - accuracy: 0.4127\n",
            "Epoch 4/100\n",
            "53/53 [==============================] - 3s 62ms/step - loss: 1.2549 - accuracy: 0.4964\n",
            "Epoch 5/100\n",
            "53/53 [==============================] - 3s 62ms/step - loss: 1.1693 - accuracy: 0.5670\n",
            "Epoch 6/100\n",
            "53/53 [==============================] - 3s 62ms/step - loss: 1.0684 - accuracy: 0.6065\n",
            "Epoch 7/100\n",
            "53/53 [==============================] - 3s 61ms/step - loss: 0.9896 - accuracy: 0.6196\n",
            "Epoch 8/100\n",
            "53/53 [==============================] - 3s 62ms/step - loss: 0.8147 - accuracy: 0.6890\n",
            "Epoch 9/100\n",
            "53/53 [==============================] - 3s 62ms/step - loss: 0.7640 - accuracy: 0.7129\n",
            "Epoch 10/100\n",
            "53/53 [==============================] - 3s 62ms/step - loss: 0.8039 - accuracy: 0.6878\n",
            "Epoch 11/100\n",
            "53/53 [==============================] - 3s 62ms/step - loss: 0.7732 - accuracy: 0.7045\n",
            "Epoch 12/100\n",
            "53/53 [==============================] - 3s 61ms/step - loss: 0.7252 - accuracy: 0.7309\n",
            "Epoch 13/100\n",
            "53/53 [==============================] - 3s 62ms/step - loss: 0.7321 - accuracy: 0.7189\n",
            "Epoch 14/100\n",
            "50/53 [===========================>..] - ETA: 0s - loss: 0.7132 - accuracy: 0.7400"
          ]
        }
      ]
    },
    {
      "cell_type": "code",
      "metadata": {
        "id": "-WgLQKcqd8gm"
      },
      "source": [
        "evaluate = model.evaluate(x_test, y_test, batch_size=16)\n",
        "print(\"Loss: \", evaluate[0], \"--> Accuracy: \", evaluate[1])"
      ],
      "execution_count": null,
      "outputs": []
    }
  ]
}