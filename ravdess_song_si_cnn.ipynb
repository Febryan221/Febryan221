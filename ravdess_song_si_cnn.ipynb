{
  "nbformat": 4,
  "nbformat_minor": 0,
  "metadata": {
    "colab": {
      "name": "Untitled0.ipynb",
      "provenance": [],
      "authorship_tag": "ABX9TyOyUOFNNlSsy4uu0BtpomrT",
      "include_colab_link": true
    },
    "kernelspec": {
      "name": "python3",
      "display_name": "Python 3"
    },
    "language_info": {
      "name": "python"
    }
  },
  "cells": [
    {
      "cell_type": "markdown",
      "metadata": {
        "id": "view-in-github",
        "colab_type": "text"
      },
      "source": [
        "<a href=\"https://colab.research.google.com/github/bagustris/ravdess_song/blob/main/ravdess_song_si_cnn.ipynb\" target=\"_parent\"><img src=\"https://colab.research.google.com/assets/colab-badge.svg\" alt=\"Open In Colab\"/></a>"
      ]
    },
    {
      "cell_type": "markdown",
      "metadata": {
        "id": "ZcelxTz8sT6q"
      },
      "source": [
        "# RAVDESS Song Emotion Recognition"
      ]
    },
    {
      "cell_type": "code",
      "metadata": {
        "id": "rbMKAfNesYuy"
      },
      "source": [
        "import glob\n",
        "import os\n",
        "import librosa\n",
        "import numpy as np\n",
        "import tensorflow as tf"
      ],
      "execution_count": 1,
      "outputs": []
    },
    {
      "cell_type": "code",
      "metadata": {
        "colab": {
          "base_uri": "https://localhost:8080/"
        },
        "id": "tM7RnOezcSdt",
        "outputId": "bc7d85b7-231c-472d-b2cc-3c1802a3abf9"
      },
      "source": [
        "!git clone https://github.com/bagustris/ravdess_song.git"
      ],
      "execution_count": 3,
      "outputs": [
        {
          "output_type": "stream",
          "name": "stdout",
          "text": [
            "Cloning into 'ravdess_song'...\n",
            "remote: Enumerating objects: 1159, done.\u001b[K\n",
            "remote: Counting objects: 100% (102/102), done.\u001b[K\n",
            "remote: Compressing objects: 100% (90/90), done.\u001b[K\n",
            "remote: Total 1159 (delta 57), reused 32 (delta 12), pack-reused 1057\u001b[K\n",
            "Receiving objects: 100% (1159/1159), 232.31 MiB | 24.91 MiB/s, done.\n",
            "Resolving deltas: 100% (61/61), done.\n",
            "Checking out files: 100% (1030/1030), done.\n"
          ]
        }
      ]
    },
    {
      "cell_type": "code",
      "metadata": {
        "colab": {
          "base_uri": "https://localhost:8080/"
        },
        "id": "KWVfE7MrcU1q",
        "outputId": "0375e811-75ae-49b6-d1b4-bc5e602ae757"
      },
      "source": [
        "cd ravdess_song"
      ],
      "execution_count": 4,
      "outputs": [
        {
          "output_type": "stream",
          "name": "stdout",
          "text": [
            "/content/ravdess_song\n"
          ]
        }
      ]
    },
    {
      "cell_type": "code",
      "metadata": {
        "id": "uwDICG5RcoHo"
      },
      "source": [
        "# load extracted features\n",
        "x_train = np.load('data/x_train.npy', allow_pickle=True)\n",
        "x_test = np.load('data/x_test.npy', allow_pickle=True)\n",
        "y_train = np.load('data/y_train.npy', allow_pickle=True)\n",
        "y_test = np.load('data/y_test.npy', allow_pickle=True)\n"
      ],
      "execution_count": 11,
      "outputs": []
    },
    {
      "cell_type": "code",
      "metadata": {
        "id": "0EyQmU8Gc9KX"
      },
      "source": [
        "# reshape X for CNN\n",
        "x_train = x_train.reshape(x_train.shape[0], x_train.shape[1], 1)\n",
        "x_test = x_test.reshape(x_test.shape[0], x_test.shape[1], 1)\n"
      ],
      "execution_count": 12,
      "outputs": []
    },
    {
      "cell_type": "code",
      "metadata": {
        "id": "j7cuaEPsdNmi"
      },
      "source": [
        "def model_cnn():\n",
        "    model = tf.keras.models.Sequential()\n",
        "    model.add(tf.keras.layers.BatchNormalization(axis=-1,\n",
        "              input_shape=(x_train.shape[1], x_train.shape[2])))\n",
        "    model.add(tf.keras.layers.Conv1D(256, 128, 1, padding='same'))\n",
        "    model.add(tf.keras.layers.Activation('relu'))\n",
        "    model.add(tf.keras.layers.MaxPooling1D(2))\n",
        "    model.add(tf.keras.layers.Flatten())\n",
        "    model.add(tf.keras.layers.Dropout(0.4))\n",
        "    model.add(tf.keras.layers.Dense(6, activation='softmax'))\n",
        "\n",
        "    # compile model: set loss, optimizer, metric\n",
        "    model.compile(loss=tf.keras.losses.SparseCategoricalCrossentropy(),\n",
        "                  optimizer=tf.keras.optimizers.Adam(),\n",
        "                  metrics=['accuracy'])\n",
        "    return model"
      ],
      "execution_count": 15,
      "outputs": []
    },
    {
      "cell_type": "code",
      "metadata": {
        "colab": {
          "base_uri": "https://localhost:8080/"
        },
        "id": "GtfC1aFidTwL",
        "outputId": "fe5face6-15eb-4cd0-d8a9-4fe8b266a0ee"
      },
      "source": [
        "model = model_cnn()\n",
        "model.summary()"
      ],
      "execution_count": 16,
      "outputs": [
        {
          "output_type": "stream",
          "name": "stdout",
          "text": [
            "Model: \"sequential_2\"\n",
            "_________________________________________________________________\n",
            "Layer (type)                 Output Shape              Param #   \n",
            "=================================================================\n",
            "batch_normalization (BatchNo (None, 386, 1)            4         \n",
            "_________________________________________________________________\n",
            "conv1d (Conv1D)              (None, 386, 256)          33024     \n",
            "_________________________________________________________________\n",
            "activation (Activation)      (None, 386, 256)          0         \n",
            "_________________________________________________________________\n",
            "max_pooling1d (MaxPooling1D) (None, 193, 256)          0         \n",
            "_________________________________________________________________\n",
            "flatten (Flatten)            (None, 49408)             0         \n",
            "_________________________________________________________________\n",
            "dropout (Dropout)            (None, 49408)             0         \n",
            "_________________________________________________________________\n",
            "dense (Dense)                (None, 6)                 296454    \n",
            "=================================================================\n",
            "Total params: 329,482\n",
            "Trainable params: 329,480\n",
            "Non-trainable params: 2\n",
            "_________________________________________________________________\n"
          ]
        }
      ]
    },
    {
      "cell_type": "code",
      "metadata": {
        "colab": {
          "base_uri": "https://localhost:8080/"
        },
        "id": "tZdJ-vpZdYRS",
        "outputId": "c4030a02-8af3-4f0c-b27e-97e8316bc831"
      },
      "source": [
        "# train CNN model\n",
        "hist = model.fit(x_train, y_train, epochs=100, shuffle=True, batch_size=16)"
      ],
      "execution_count": 17,
      "outputs": [
        {
          "output_type": "stream",
          "name": "stdout",
          "text": [
            "Epoch 1/100\n",
            "53/53 [==============================] - 4s 62ms/step - loss: 1.7908 - accuracy: 0.2644\n",
            "Epoch 2/100\n",
            "53/53 [==============================] - 3s 61ms/step - loss: 1.5642 - accuracy: 0.3409\n",
            "Epoch 3/100\n",
            "53/53 [==============================] - 3s 62ms/step - loss: 1.4308 - accuracy: 0.4127\n",
            "Epoch 4/100\n",
            "53/53 [==============================] - 3s 62ms/step - loss: 1.2549 - accuracy: 0.4964\n",
            "Epoch 5/100\n",
            "53/53 [==============================] - 3s 62ms/step - loss: 1.1693 - accuracy: 0.5670\n",
            "Epoch 6/100\n",
            "53/53 [==============================] - 3s 62ms/step - loss: 1.0684 - accuracy: 0.6065\n",
            "Epoch 7/100\n",
            "53/53 [==============================] - 3s 61ms/step - loss: 0.9896 - accuracy: 0.6196\n",
            "Epoch 8/100\n",
            "53/53 [==============================] - 3s 62ms/step - loss: 0.8147 - accuracy: 0.6890\n",
            "Epoch 9/100\n",
            "53/53 [==============================] - 3s 62ms/step - loss: 0.7640 - accuracy: 0.7129\n",
            "Epoch 10/100\n",
            "53/53 [==============================] - 3s 62ms/step - loss: 0.8039 - accuracy: 0.6878\n",
            "Epoch 11/100\n",
            "53/53 [==============================] - 3s 62ms/step - loss: 0.7732 - accuracy: 0.7045\n",
            "Epoch 12/100\n",
            "53/53 [==============================] - 3s 61ms/step - loss: 0.7252 - accuracy: 0.7309\n",
            "Epoch 13/100\n",
            "53/53 [==============================] - 3s 62ms/step - loss: 0.7321 - accuracy: 0.7189\n",
            "Epoch 14/100\n",
            "53/53 [==============================] - 3s 62ms/step - loss: 0.7101 - accuracy: 0.7404\n",
            "Epoch 15/100\n",
            "53/53 [==============================] - 3s 62ms/step - loss: 0.6576 - accuracy: 0.7344\n",
            "Epoch 16/100\n",
            "53/53 [==============================] - 3s 61ms/step - loss: 0.6687 - accuracy: 0.7249\n",
            "Epoch 17/100\n",
            "53/53 [==============================] - 3s 61ms/step - loss: 0.7053 - accuracy: 0.7416\n",
            "Epoch 18/100\n",
            "53/53 [==============================] - 3s 62ms/step - loss: 0.5225 - accuracy: 0.8062\n",
            "Epoch 19/100\n",
            "53/53 [==============================] - 3s 61ms/step - loss: 0.5840 - accuracy: 0.7835\n",
            "Epoch 20/100\n",
            "53/53 [==============================] - 3s 62ms/step - loss: 0.6016 - accuracy: 0.7715\n",
            "Epoch 21/100\n",
            "53/53 [==============================] - 3s 61ms/step - loss: 0.5012 - accuracy: 0.8134\n",
            "Epoch 22/100\n",
            "53/53 [==============================] - 3s 62ms/step - loss: 0.6040 - accuracy: 0.7907\n",
            "Epoch 23/100\n",
            "53/53 [==============================] - 3s 61ms/step - loss: 0.5556 - accuracy: 0.7811\n",
            "Epoch 24/100\n",
            "53/53 [==============================] - 3s 61ms/step - loss: 0.5209 - accuracy: 0.8062\n",
            "Epoch 25/100\n",
            "53/53 [==============================] - 3s 62ms/step - loss: 0.4899 - accuracy: 0.8074\n",
            "Epoch 26/100\n",
            "53/53 [==============================] - 3s 61ms/step - loss: 0.4685 - accuracy: 0.8146\n",
            "Epoch 27/100\n",
            "53/53 [==============================] - 3s 61ms/step - loss: 0.5134 - accuracy: 0.8242\n",
            "Epoch 28/100\n",
            "53/53 [==============================] - 3s 61ms/step - loss: 0.5039 - accuracy: 0.8170\n",
            "Epoch 29/100\n",
            "53/53 [==============================] - 3s 61ms/step - loss: 0.5072 - accuracy: 0.8050\n",
            "Epoch 30/100\n",
            "53/53 [==============================] - 3s 61ms/step - loss: 0.4873 - accuracy: 0.8182\n",
            "Epoch 31/100\n",
            "53/53 [==============================] - 3s 62ms/step - loss: 0.4454 - accuracy: 0.8361\n",
            "Epoch 32/100\n",
            "53/53 [==============================] - 3s 62ms/step - loss: 0.4005 - accuracy: 0.8385\n",
            "Epoch 33/100\n",
            "53/53 [==============================] - 3s 61ms/step - loss: 0.3725 - accuracy: 0.8565\n",
            "Epoch 34/100\n",
            "53/53 [==============================] - 3s 61ms/step - loss: 0.3962 - accuracy: 0.8541\n",
            "Epoch 35/100\n",
            "53/53 [==============================] - 3s 61ms/step - loss: 0.4379 - accuracy: 0.8385\n",
            "Epoch 36/100\n",
            "53/53 [==============================] - 3s 61ms/step - loss: 0.3735 - accuracy: 0.8624\n",
            "Epoch 37/100\n",
            "53/53 [==============================] - 3s 61ms/step - loss: 0.4555 - accuracy: 0.8230\n",
            "Epoch 38/100\n",
            "53/53 [==============================] - 3s 61ms/step - loss: 0.4155 - accuracy: 0.8433\n",
            "Epoch 39/100\n",
            "53/53 [==============================] - 3s 61ms/step - loss: 0.3880 - accuracy: 0.8469\n",
            "Epoch 40/100\n",
            "53/53 [==============================] - 3s 62ms/step - loss: 0.4587 - accuracy: 0.8325\n",
            "Epoch 41/100\n",
            "53/53 [==============================] - 3s 61ms/step - loss: 0.4175 - accuracy: 0.8505\n",
            "Epoch 42/100\n",
            "53/53 [==============================] - 3s 62ms/step - loss: 0.3758 - accuracy: 0.8457\n",
            "Epoch 43/100\n",
            "53/53 [==============================] - 3s 61ms/step - loss: 0.4588 - accuracy: 0.8433\n",
            "Epoch 44/100\n",
            "53/53 [==============================] - 3s 62ms/step - loss: 0.3154 - accuracy: 0.8792\n",
            "Epoch 45/100\n",
            "53/53 [==============================] - 3s 62ms/step - loss: 0.3445 - accuracy: 0.8732\n",
            "Epoch 46/100\n",
            "53/53 [==============================] - 3s 62ms/step - loss: 0.4530 - accuracy: 0.8349\n",
            "Epoch 47/100\n",
            "53/53 [==============================] - 3s 62ms/step - loss: 0.4109 - accuracy: 0.8517\n",
            "Epoch 48/100\n",
            "53/53 [==============================] - 3s 62ms/step - loss: 0.3149 - accuracy: 0.8672\n",
            "Epoch 49/100\n",
            "53/53 [==============================] - 3s 62ms/step - loss: 0.4231 - accuracy: 0.8361\n",
            "Epoch 50/100\n",
            "53/53 [==============================] - 3s 62ms/step - loss: 0.3281 - accuracy: 0.8828\n",
            "Epoch 51/100\n",
            "53/53 [==============================] - 3s 62ms/step - loss: 0.5538 - accuracy: 0.8122\n",
            "Epoch 52/100\n",
            "53/53 [==============================] - 3s 61ms/step - loss: 0.3141 - accuracy: 0.8816\n",
            "Epoch 53/100\n",
            "53/53 [==============================] - 3s 61ms/step - loss: 0.3252 - accuracy: 0.8648\n",
            "Epoch 54/100\n",
            "53/53 [==============================] - 3s 60ms/step - loss: 0.2814 - accuracy: 0.8876\n",
            "Epoch 55/100\n",
            "53/53 [==============================] - 3s 60ms/step - loss: 0.3640 - accuracy: 0.8708\n",
            "Epoch 56/100\n",
            "53/53 [==============================] - 3s 61ms/step - loss: 0.3296 - accuracy: 0.8732\n",
            "Epoch 57/100\n",
            "53/53 [==============================] - 3s 61ms/step - loss: 0.3293 - accuracy: 0.8780\n",
            "Epoch 58/100\n",
            "53/53 [==============================] - 3s 60ms/step - loss: 0.3062 - accuracy: 0.8744\n",
            "Epoch 59/100\n",
            "53/53 [==============================] - 3s 60ms/step - loss: 0.4686 - accuracy: 0.8313\n",
            "Epoch 60/100\n",
            "53/53 [==============================] - 3s 60ms/step - loss: 0.2616 - accuracy: 0.8947\n",
            "Epoch 61/100\n",
            "53/53 [==============================] - 3s 60ms/step - loss: 0.3037 - accuracy: 0.8792\n",
            "Epoch 62/100\n",
            "53/53 [==============================] - 3s 60ms/step - loss: 0.3867 - accuracy: 0.8648\n",
            "Epoch 63/100\n",
            "53/53 [==============================] - 3s 60ms/step - loss: 0.2762 - accuracy: 0.8923\n",
            "Epoch 64/100\n",
            "53/53 [==============================] - 3s 60ms/step - loss: 0.3156 - accuracy: 0.8804\n",
            "Epoch 65/100\n",
            "53/53 [==============================] - 3s 61ms/step - loss: 0.3601 - accuracy: 0.8720\n",
            "Epoch 66/100\n",
            "53/53 [==============================] - 3s 61ms/step - loss: 0.2951 - accuracy: 0.8935\n",
            "Epoch 67/100\n",
            "53/53 [==============================] - 3s 60ms/step - loss: 0.2562 - accuracy: 0.9043\n",
            "Epoch 68/100\n",
            "53/53 [==============================] - 3s 61ms/step - loss: 0.2440 - accuracy: 0.8971\n",
            "Epoch 69/100\n",
            "53/53 [==============================] - 3s 60ms/step - loss: 0.2461 - accuracy: 0.8971\n",
            "Epoch 70/100\n",
            "53/53 [==============================] - 3s 60ms/step - loss: 0.3231 - accuracy: 0.8816\n",
            "Epoch 71/100\n",
            "53/53 [==============================] - 3s 61ms/step - loss: 0.2870 - accuracy: 0.8828\n",
            "Epoch 72/100\n",
            "53/53 [==============================] - 3s 60ms/step - loss: 0.3067 - accuracy: 0.8876\n",
            "Epoch 73/100\n",
            "53/53 [==============================] - 3s 61ms/step - loss: 0.2557 - accuracy: 0.9007\n",
            "Epoch 74/100\n",
            "53/53 [==============================] - 3s 61ms/step - loss: 0.3437 - accuracy: 0.8768\n",
            "Epoch 75/100\n",
            "53/53 [==============================] - 3s 61ms/step - loss: 0.2746 - accuracy: 0.8923\n",
            "Epoch 76/100\n",
            "53/53 [==============================] - 3s 62ms/step - loss: 0.2639 - accuracy: 0.9007\n",
            "Epoch 77/100\n",
            "53/53 [==============================] - 3s 62ms/step - loss: 0.2320 - accuracy: 0.9091\n",
            "Epoch 78/100\n",
            "53/53 [==============================] - 3s 62ms/step - loss: 0.3535 - accuracy: 0.8828\n",
            "Epoch 79/100\n",
            "53/53 [==============================] - 3s 62ms/step - loss: 0.2437 - accuracy: 0.9091\n",
            "Epoch 80/100\n",
            "53/53 [==============================] - 3s 62ms/step - loss: 0.2754 - accuracy: 0.8911\n",
            "Epoch 81/100\n",
            "53/53 [==============================] - 3s 62ms/step - loss: 0.3046 - accuracy: 0.8911\n",
            "Epoch 82/100\n",
            "53/53 [==============================] - 3s 62ms/step - loss: 0.2337 - accuracy: 0.9055\n",
            "Epoch 83/100\n",
            "53/53 [==============================] - 3s 62ms/step - loss: 0.3824 - accuracy: 0.8840\n",
            "Epoch 84/100\n",
            "53/53 [==============================] - 3s 62ms/step - loss: 0.2266 - accuracy: 0.9175\n",
            "Epoch 85/100\n",
            "53/53 [==============================] - 3s 62ms/step - loss: 0.2374 - accuracy: 0.9079\n",
            "Epoch 86/100\n",
            "53/53 [==============================] - 3s 63ms/step - loss: 0.3276 - accuracy: 0.8995\n",
            "Epoch 87/100\n",
            "53/53 [==============================] - 3s 63ms/step - loss: 0.2793 - accuracy: 0.8935\n",
            "Epoch 88/100\n",
            "53/53 [==============================] - 3s 63ms/step - loss: 0.3123 - accuracy: 0.8852\n",
            "Epoch 89/100\n",
            "53/53 [==============================] - 3s 63ms/step - loss: 0.3140 - accuracy: 0.8876\n",
            "Epoch 90/100\n",
            "53/53 [==============================] - 3s 63ms/step - loss: 0.2273 - accuracy: 0.9211\n",
            "Epoch 91/100\n",
            "53/53 [==============================] - 3s 63ms/step - loss: 0.2242 - accuracy: 0.9079\n",
            "Epoch 92/100\n",
            "53/53 [==============================] - 3s 63ms/step - loss: 0.2360 - accuracy: 0.9139\n",
            "Epoch 93/100\n",
            "53/53 [==============================] - 3s 63ms/step - loss: 0.2136 - accuracy: 0.9282\n",
            "Epoch 94/100\n",
            "53/53 [==============================] - 3s 63ms/step - loss: 0.2168 - accuracy: 0.9234\n",
            "Epoch 95/100\n",
            "53/53 [==============================] - 3s 63ms/step - loss: 0.2874 - accuracy: 0.8935\n",
            "Epoch 96/100\n",
            "53/53 [==============================] - 3s 63ms/step - loss: 0.2166 - accuracy: 0.9246\n",
            "Epoch 97/100\n",
            "53/53 [==============================] - 3s 63ms/step - loss: 0.2236 - accuracy: 0.9246\n",
            "Epoch 98/100\n",
            "53/53 [==============================] - 3s 63ms/step - loss: 0.2317 - accuracy: 0.9175\n",
            "Epoch 99/100\n",
            "53/53 [==============================] - 3s 63ms/step - loss: 0.1633 - accuracy: 0.9402\n",
            "Epoch 100/100\n",
            "53/53 [==============================] - 3s 63ms/step - loss: 0.3278 - accuracy: 0.8672\n"
          ]
        }
      ]
    },
    {
      "cell_type": "code",
      "metadata": {
        "colab": {
          "base_uri": "https://localhost:8080/"
        },
        "id": "-WgLQKcqd8gm",
        "outputId": "c608b23a-f542-414c-c89c-5f90f55523f9"
      },
      "source": [
        "evaluate = model.evaluate(x_test, y_test, batch_size=16)\n",
        "print(\"Loss: \", evaluate[0], \"--> Accuracy: \", evaluate[1])"
      ],
      "execution_count": 18,
      "outputs": [
        {
          "output_type": "stream",
          "name": "stdout",
          "text": [
            "11/11 [==============================] - 0s 14ms/step - loss: 0.8277 - accuracy: 0.7330\n",
            "Loss:  0.8277202844619751 --> Accuracy:  0.7329545617103577\n"
          ]
        }
      ]
    }
  ]
}