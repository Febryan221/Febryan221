{
  "nbformat": 4,
  "nbformat_minor": 0,
  "metadata": {
    "colab": {
      "name": "Untitled0.ipynb",
      "provenance": [],
      "include_colab_link": true
    },
    "kernelspec": {
      "display_name": "Python 3.7.11 64-bit",
      "name": "python3711jvsc74a57bd0fd69f43f58546b570e94fd7eba7b65e6bcc7a5bbc4eab0408017d18902915d69"
    },
    "language_info": {
      "name": "python",
      "version": ""
    },
    "metadata": {
      "interpreter": {
        "hash": "fd69f43f58546b570e94fd7eba7b65e6bcc7a5bbc4eab0408017d18902915d69"
      }
    }
  },
  "cells": [
    {
      "cell_type": "markdown",
      "metadata": {
        "id": "view-in-github",
        "colab_type": "text"
      },
      "source": [
        "<a href=\"https://colab.research.google.com/github/bagustris/ravdess_song/blob/main/ravdess_song_sd_lstm.ipynb\" target=\"_parent\"><img src=\"https://colab.research.google.com/assets/colab-badge.svg\" alt=\"Open In Colab\"/></a>"
      ]
    },
    {
      "cell_type": "markdown",
      "metadata": {
        "id": "ZcelxTz8sT6q"
      },
      "source": [
        "# RAVDESS Song Emotion Recognition with LSTM \n",
        "Acoustic features are loaded directly from data directory"
      ]
    },
    {
      "cell_type": "code",
      "metadata": {
        "id": "rbMKAfNesYuy"
      },
      "source": [
        "import glob\n",
        "import os\n",
        "import librosa\n",
        "import numpy as np\n",
        "from sklearn.model_selection import train_test_split\n",
        "import tensorflow as tf"
      ],
      "execution_count": 1,
      "outputs": []
    },
    {
      "cell_type": "code",
      "metadata": {
        "colab": {
          "base_uri": "https://localhost:8080/"
        },
        "id": "8T0F32ZRCrAG",
        "outputId": "51b89bde-1f25-43fd-c5ab-b942603515db"
      },
      "source": [
        "!git clone https://github.com/bagustris/ravdess_song.git"
      ],
      "execution_count": 2,
      "outputs": [
        {
          "output_type": "stream",
          "name": "stdout",
          "text": [
            "Cloning into 'ravdess_song'...\n",
            "remote: Enumerating objects: 1147, done.\u001b[K\n",
            "remote: Counting objects: 100% (90/90), done.\u001b[K\n",
            "remote: Compressing objects: 100% (78/78), done.\u001b[K\n",
            "remote: Total 1147 (delta 49), reused 32 (delta 12), pack-reused 1057\u001b[K\n",
            "Receiving objects: 100% (1147/1147), 232.30 MiB | 25.09 MiB/s, done.\n",
            "Resolving deltas: 100% (53/53), done.\n",
            "Checking out files: 100% (1030/1030), done.\n"
          ]
        }
      ]
    },
    {
      "cell_type": "code",
      "metadata": {
        "colab": {
          "base_uri": "https://localhost:8080/"
        },
        "id": "b33LC9_DC0gv",
        "outputId": "54831bfc-17d0-4e42-a60a-3b31665095d0"
      },
      "source": [
        "cd ravdess_song/"
      ],
      "execution_count": 3,
      "outputs": [
        {
          "output_type": "stream",
          "name": "stdout",
          "text": [
            "/content/ravdess_song\n"
          ]
        }
      ]
    },
    {
      "cell_type": "code",
      "metadata": {
        "id": "EqT-75OvbIhJ"
      },
      "source": [
        "# assign hsf to X, lab to y; reshape X for LSTM\n",
        "X = np.load('data/x.npy', allow_pickle=True)\n",
        "y = np.load('data/y.npy', allow_pickle=True)"
      ],
      "execution_count": 4,
      "outputs": []
    },
    {
      "cell_type": "code",
      "metadata": {
        "id": "L1dGaGt8Z07N"
      },
      "source": [
        "# reshape x untuk lstm\n",
        "X = X.reshape((X.shape[0], 1, X.shape[1]))"
      ],
      "execution_count": 5,
      "outputs": []
    },
    {
      "cell_type": "code",
      "metadata": {
        "id": "o0mM3RbKcI82"
      },
      "source": [
        "# split into train and test\n",
        "x_train, x_test, y_train, y_test = train_test_split(X, y, test_size=0.1)"
      ],
      "execution_count": 6,
      "outputs": []
    },
    {
      "cell_type": "code",
      "metadata": {
        "id": "aq0SbnHTcMGG"
      },
      "source": [
        "# functio to build LSTM model\n",
        "def model_lstm():\n",
        "    model = tf.keras.models.Sequential()\n",
        "    model.add(tf.keras.layers.BatchNormalization(axis=-1,\n",
        "              input_shape=(x_train.shape[1], x_train.shape[2])))\n",
        "    model.add(tf.keras.layers.LSTM(256, return_sequences=True))\n",
        "    model.add(tf.keras.layers.LSTM(256, return_sequences=True))\n",
        "    model.add(tf.keras.layers.LSTM(256, return_sequences=True))\n",
        "    model.add(tf.keras.layers.Flatten())\n",
        "    model.add(tf.keras.layers.Dropout(0.4))\n",
        "    model.add(tf.keras.layers.Dense(6, activation='softmax'))\n",
        "\n",
        "    # compile model: set loss, optimizer, metric\n",
        "    model.compile(loss=tf.keras.losses.SparseCategoricalCrossentropy(),\n",
        "                  optimizer=tf.keras.optimizers.Adam(),\n",
        "                  metrics=['accuracy'])\n",
        "    return model"
      ],
      "execution_count": 7,
      "outputs": []
    },
    {
      "cell_type": "code",
      "metadata": {
        "colab": {
          "base_uri": "https://localhost:8080/"
        },
        "id": "-vT5MfXXcX2N",
        "outputId": "30987159-268c-4922-877a-7d63d9e47c68"
      },
      "source": [
        "# create the model\n",
        "model = model_lstm()\n",
        "print(model.summary())"
      ],
      "execution_count": 8,
      "outputs": [
        {
          "output_type": "stream",
          "name": "stdout",
          "text": [
            "Model: \"sequential\"\n",
            "_________________________________________________________________\n",
            "Layer (type)                 Output Shape              Param #   \n",
            "=================================================================\n",
            "batch_normalization (BatchNo (None, 1, 386)            1544      \n",
            "_________________________________________________________________\n",
            "lstm (LSTM)                  (None, 1, 256)            658432    \n",
            "_________________________________________________________________\n",
            "lstm_1 (LSTM)                (None, 1, 256)            525312    \n",
            "_________________________________________________________________\n",
            "lstm_2 (LSTM)                (None, 1, 256)            525312    \n",
            "_________________________________________________________________\n",
            "flatten (Flatten)            (None, 256)               0         \n",
            "_________________________________________________________________\n",
            "dropout (Dropout)            (None, 256)               0         \n",
            "_________________________________________________________________\n",
            "dense (Dense)                (None, 6)                 1542      \n",
            "=================================================================\n",
            "Total params: 1,712,142\n",
            "Trainable params: 1,711,370\n",
            "Non-trainable params: 772\n",
            "_________________________________________________________________\n",
            "None\n"
          ]
        }
      ]
    },
    {
      "cell_type": "code",
      "metadata": {
        "colab": {
          "base_uri": "https://localhost:8080/"
        },
        "id": "FXO6TWIFcbxA",
        "outputId": "b8bc5127-f060-4687-8bde-5cb78a185e4b"
      },
      "source": [
        "# train the Dense model\n",
        "hist = model.fit(x_train, y_train, epochs=100, shuffle=True, batch_size=16)"
      ],
      "execution_count": 9,
      "outputs": [
        {
          "output_type": "stream",
          "name": "stdout",
          "text": [
            "Epoch 1/100\n",
            "57/57 [==============================] - 6s 21ms/step - loss: 1.4456 - accuracy: 0.4538\n",
            "Epoch 2/100\n",
            "57/57 [==============================] - 1s 20ms/step - loss: 0.6561 - accuracy: 0.7473\n",
            "Epoch 3/100\n",
            "57/57 [==============================] - 1s 20ms/step - loss: 0.4800 - accuracy: 0.8088\n",
            "Epoch 4/100\n",
            "57/57 [==============================] - 1s 20ms/step - loss: 0.3461 - accuracy: 0.8736\n",
            "Epoch 5/100\n",
            "57/57 [==============================] - 1s 20ms/step - loss: 0.3301 - accuracy: 0.8769\n",
            "Epoch 6/100\n",
            "57/57 [==============================] - 1s 20ms/step - loss: 0.2654 - accuracy: 0.8989\n",
            "Epoch 7/100\n",
            "57/57 [==============================] - 1s 21ms/step - loss: 0.2192 - accuracy: 0.9121\n",
            "Epoch 8/100\n",
            "57/57 [==============================] - 1s 20ms/step - loss: 0.2581 - accuracy: 0.9033\n",
            "Epoch 9/100\n",
            "57/57 [==============================] - 1s 21ms/step - loss: 0.1960 - accuracy: 0.9286\n",
            "Epoch 10/100\n",
            "57/57 [==============================] - 1s 20ms/step - loss: 0.1740 - accuracy: 0.9352\n",
            "Epoch 11/100\n",
            "57/57 [==============================] - 1s 20ms/step - loss: 0.1619 - accuracy: 0.9407\n",
            "Epoch 12/100\n",
            "57/57 [==============================] - 1s 20ms/step - loss: 0.1400 - accuracy: 0.9484\n",
            "Epoch 13/100\n",
            "57/57 [==============================] - 1s 21ms/step - loss: 0.1082 - accuracy: 0.9593\n",
            "Epoch 14/100\n",
            "57/57 [==============================] - 1s 20ms/step - loss: 0.0952 - accuracy: 0.9659\n",
            "Epoch 15/100\n",
            "57/57 [==============================] - 1s 20ms/step - loss: 0.0785 - accuracy: 0.9703\n",
            "Epoch 16/100\n",
            "57/57 [==============================] - 1s 20ms/step - loss: 0.1034 - accuracy: 0.9659\n",
            "Epoch 17/100\n",
            "57/57 [==============================] - 1s 20ms/step - loss: 0.0709 - accuracy: 0.9780\n",
            "Epoch 18/100\n",
            "57/57 [==============================] - 1s 20ms/step - loss: 0.0934 - accuracy: 0.9692\n",
            "Epoch 19/100\n",
            "57/57 [==============================] - 1s 20ms/step - loss: 0.0616 - accuracy: 0.9747\n",
            "Epoch 20/100\n",
            "57/57 [==============================] - 1s 20ms/step - loss: 0.0747 - accuracy: 0.9736\n",
            "Epoch 21/100\n",
            "57/57 [==============================] - 1s 20ms/step - loss: 0.0749 - accuracy: 0.9736\n",
            "Epoch 22/100\n",
            "57/57 [==============================] - 1s 21ms/step - loss: 0.0850 - accuracy: 0.9703\n",
            "Epoch 23/100\n",
            "57/57 [==============================] - 1s 20ms/step - loss: 0.0750 - accuracy: 0.9769\n",
            "Epoch 24/100\n",
            "57/57 [==============================] - 1s 21ms/step - loss: 0.0676 - accuracy: 0.9780\n",
            "Epoch 25/100\n",
            "57/57 [==============================] - 1s 20ms/step - loss: 0.0733 - accuracy: 0.9725\n",
            "Epoch 26/100\n",
            "57/57 [==============================] - 1s 21ms/step - loss: 0.1082 - accuracy: 0.9670\n",
            "Epoch 27/100\n",
            "57/57 [==============================] - 1s 21ms/step - loss: 0.0663 - accuracy: 0.9758\n",
            "Epoch 28/100\n",
            "57/57 [==============================] - 1s 20ms/step - loss: 0.0474 - accuracy: 0.9824\n",
            "Epoch 29/100\n",
            "57/57 [==============================] - 1s 20ms/step - loss: 0.0450 - accuracy: 0.9835\n",
            "Epoch 30/100\n",
            "57/57 [==============================] - 1s 21ms/step - loss: 0.0514 - accuracy: 0.9802\n",
            "Epoch 31/100\n",
            "57/57 [==============================] - 1s 21ms/step - loss: 0.0220 - accuracy: 0.9934\n",
            "Epoch 32/100\n",
            "57/57 [==============================] - 1s 21ms/step - loss: 0.0245 - accuracy: 0.9956\n",
            "Epoch 33/100\n",
            "57/57 [==============================] - 1s 20ms/step - loss: 0.0205 - accuracy: 0.9956\n",
            "Epoch 34/100\n",
            "57/57 [==============================] - 1s 20ms/step - loss: 0.0679 - accuracy: 0.9791\n",
            "Epoch 35/100\n",
            "57/57 [==============================] - 1s 21ms/step - loss: 0.0625 - accuracy: 0.9769\n",
            "Epoch 36/100\n",
            "57/57 [==============================] - 1s 21ms/step - loss: 0.0500 - accuracy: 0.9868\n",
            "Epoch 37/100\n",
            "57/57 [==============================] - 1s 21ms/step - loss: 0.0549 - accuracy: 0.9802\n",
            "Epoch 38/100\n",
            "57/57 [==============================] - 1s 20ms/step - loss: 0.0994 - accuracy: 0.9714\n",
            "Epoch 39/100\n",
            "57/57 [==============================] - 1s 20ms/step - loss: 0.0751 - accuracy: 0.9769\n",
            "Epoch 40/100\n",
            "57/57 [==============================] - 1s 21ms/step - loss: 0.0485 - accuracy: 0.9824\n",
            "Epoch 41/100\n",
            "57/57 [==============================] - 1s 21ms/step - loss: 0.0644 - accuracy: 0.9747\n",
            "Epoch 42/100\n",
            "57/57 [==============================] - 1s 21ms/step - loss: 0.0697 - accuracy: 0.9758\n",
            "Epoch 43/100\n",
            "57/57 [==============================] - 1s 20ms/step - loss: 0.0261 - accuracy: 0.9912\n",
            "Epoch 44/100\n",
            "57/57 [==============================] - 1s 20ms/step - loss: 0.0135 - accuracy: 0.9923\n",
            "Epoch 45/100\n",
            "57/57 [==============================] - 1s 21ms/step - loss: 0.0281 - accuracy: 0.9901\n",
            "Epoch 46/100\n",
            "57/57 [==============================] - 1s 21ms/step - loss: 0.0419 - accuracy: 0.9846\n",
            "Epoch 47/100\n",
            "57/57 [==============================] - 1s 21ms/step - loss: 0.0664 - accuracy: 0.9769\n",
            "Epoch 48/100\n",
            "57/57 [==============================] - 1s 20ms/step - loss: 0.0330 - accuracy: 0.9868\n",
            "Epoch 49/100\n",
            "57/57 [==============================] - 1s 21ms/step - loss: 0.0462 - accuracy: 0.9868\n",
            "Epoch 50/100\n",
            "57/57 [==============================] - 1s 20ms/step - loss: 0.0181 - accuracy: 0.9945\n",
            "Epoch 51/100\n",
            "57/57 [==============================] - 1s 21ms/step - loss: 0.0595 - accuracy: 0.9857\n",
            "Epoch 52/100\n",
            "57/57 [==============================] - 1s 21ms/step - loss: 0.0320 - accuracy: 0.9901\n",
            "Epoch 53/100\n",
            "57/57 [==============================] - 1s 20ms/step - loss: 0.0170 - accuracy: 0.9956\n",
            "Epoch 54/100\n",
            "57/57 [==============================] - 1s 21ms/step - loss: 0.0253 - accuracy: 0.9901\n",
            "Epoch 55/100\n",
            "57/57 [==============================] - 1s 21ms/step - loss: 0.0375 - accuracy: 0.9901\n",
            "Epoch 56/100\n",
            "57/57 [==============================] - 1s 21ms/step - loss: 0.0387 - accuracy: 0.9879\n",
            "Epoch 57/100\n",
            "57/57 [==============================] - 1s 20ms/step - loss: 0.0380 - accuracy: 0.9912\n",
            "Epoch 58/100\n",
            "57/57 [==============================] - 1s 21ms/step - loss: 0.0236 - accuracy: 0.9934\n",
            "Epoch 59/100\n",
            "57/57 [==============================] - 1s 21ms/step - loss: 0.0172 - accuracy: 0.9945\n",
            "Epoch 60/100\n",
            "57/57 [==============================] - 1s 20ms/step - loss: 0.0451 - accuracy: 0.9890\n",
            "Epoch 61/100\n",
            "57/57 [==============================] - 1s 21ms/step - loss: 0.0241 - accuracy: 0.9890\n",
            "Epoch 62/100\n",
            "57/57 [==============================] - 1s 21ms/step - loss: 0.0433 - accuracy: 0.9824\n",
            "Epoch 63/100\n",
            "57/57 [==============================] - 1s 21ms/step - loss: 0.0212 - accuracy: 0.9945\n",
            "Epoch 64/100\n",
            "57/57 [==============================] - 1s 21ms/step - loss: 0.0365 - accuracy: 0.9857\n",
            "Epoch 65/100\n",
            "57/57 [==============================] - 1s 21ms/step - loss: 0.0292 - accuracy: 0.9923\n",
            "Epoch 66/100\n",
            "57/57 [==============================] - 1s 21ms/step - loss: 0.0240 - accuracy: 0.9901\n",
            "Epoch 67/100\n",
            "57/57 [==============================] - 1s 21ms/step - loss: 0.0361 - accuracy: 0.9879\n",
            "Epoch 68/100\n",
            "57/57 [==============================] - 1s 21ms/step - loss: 0.0259 - accuracy: 0.9901\n",
            "Epoch 69/100\n",
            "57/57 [==============================] - 1s 20ms/step - loss: 0.0197 - accuracy: 0.9934\n",
            "Epoch 70/100\n",
            "57/57 [==============================] - 1s 21ms/step - loss: 0.0410 - accuracy: 0.9890\n",
            "Epoch 71/100\n",
            "57/57 [==============================] - 1s 21ms/step - loss: 0.0428 - accuracy: 0.9879\n",
            "Epoch 72/100\n",
            "57/57 [==============================] - 1s 21ms/step - loss: 0.0077 - accuracy: 0.9978\n",
            "Epoch 73/100\n",
            "57/57 [==============================] - 1s 20ms/step - loss: 0.0315 - accuracy: 0.9934\n",
            "Epoch 74/100\n",
            "57/57 [==============================] - 1s 21ms/step - loss: 0.0170 - accuracy: 0.9967\n",
            "Epoch 75/100\n",
            "57/57 [==============================] - 1s 21ms/step - loss: 0.0214 - accuracy: 0.9934\n",
            "Epoch 76/100\n",
            "57/57 [==============================] - 1s 21ms/step - loss: 0.0294 - accuracy: 0.9901\n",
            "Epoch 77/100\n",
            "57/57 [==============================] - 1s 22ms/step - loss: 0.0633 - accuracy: 0.9879\n",
            "Epoch 78/100\n",
            "57/57 [==============================] - 1s 21ms/step - loss: 0.0161 - accuracy: 0.9945\n",
            "Epoch 79/100\n",
            "57/57 [==============================] - 1s 21ms/step - loss: 0.0441 - accuracy: 0.9791\n",
            "Epoch 80/100\n",
            "57/57 [==============================] - 1s 20ms/step - loss: 0.0390 - accuracy: 0.9901\n",
            "Epoch 81/100\n",
            "57/57 [==============================] - 1s 20ms/step - loss: 0.0241 - accuracy: 0.9934\n",
            "Epoch 82/100\n",
            "57/57 [==============================] - 1s 20ms/step - loss: 0.0065 - accuracy: 0.9989\n",
            "Epoch 83/100\n",
            "57/57 [==============================] - 1s 21ms/step - loss: 0.0246 - accuracy: 0.9923\n",
            "Epoch 84/100\n",
            "57/57 [==============================] - 1s 21ms/step - loss: 0.0331 - accuracy: 0.9890\n",
            "Epoch 85/100\n",
            "57/57 [==============================] - 1s 21ms/step - loss: 0.0330 - accuracy: 0.9879\n",
            "Epoch 86/100\n",
            "57/57 [==============================] - 1s 20ms/step - loss: 0.0207 - accuracy: 0.9934\n",
            "Epoch 87/100\n",
            "57/57 [==============================] - 1s 21ms/step - loss: 0.0224 - accuracy: 0.9934\n",
            "Epoch 88/100\n",
            "57/57 [==============================] - 1s 21ms/step - loss: 0.0210 - accuracy: 0.9901\n",
            "Epoch 89/100\n",
            "57/57 [==============================] - 1s 21ms/step - loss: 0.0325 - accuracy: 0.9912\n",
            "Epoch 90/100\n",
            "57/57 [==============================] - 1s 20ms/step - loss: 0.0232 - accuracy: 0.9945\n",
            "Epoch 91/100\n",
            "57/57 [==============================] - 1s 20ms/step - loss: 0.0212 - accuracy: 0.9912\n",
            "Epoch 92/100\n",
            "57/57 [==============================] - 1s 21ms/step - loss: 0.0437 - accuracy: 0.9868\n",
            "Epoch 93/100\n",
            "57/57 [==============================] - 1s 20ms/step - loss: 0.0259 - accuracy: 0.9923\n",
            "Epoch 94/100\n",
            "57/57 [==============================] - 1s 21ms/step - loss: 0.0115 - accuracy: 0.9956\n",
            "Epoch 95/100\n",
            "57/57 [==============================] - 1s 21ms/step - loss: 0.0162 - accuracy: 0.9934\n",
            "Epoch 96/100\n",
            "57/57 [==============================] - 1s 21ms/step - loss: 0.0328 - accuracy: 0.9901\n",
            "Epoch 97/100\n",
            "57/57 [==============================] - 1s 21ms/step - loss: 0.0129 - accuracy: 0.9967\n",
            "Epoch 98/100\n",
            "57/57 [==============================] - 1s 21ms/step - loss: 0.0082 - accuracy: 0.9967\n",
            "Epoch 99/100\n",
            "57/57 [==============================] - 1s 20ms/step - loss: 0.0134 - accuracy: 0.9945\n",
            "Epoch 100/100\n",
            "57/57 [==============================] - 1s 21ms/step - loss: 0.0058 - accuracy: 0.9989\n"
          ]
        }
      ]
    },
    {
      "cell_type": "code",
      "metadata": {
        "colab": {
          "base_uri": "https://localhost:8080/"
        },
        "id": "Fnlc0bficqpE",
        "outputId": "8ee2b12c-75fc-4aca-fa18-269e9dddfc64"
      },
      "source": [
        "evaluate = model.evaluate(x_test, y_test, batch_size=16)\n",
        "print(\"Loss: \", evaluate[0], \"--> Accuracy: \", evaluate[1])"
      ],
      "execution_count": 10,
      "outputs": [
        {
          "output_type": "stream",
          "name": "stdout",
          "text": [
            "7/7 [==============================] - 1s 5ms/step - loss: 0.2062 - accuracy: 0.9608\n",
            "Loss:  0.20618675649166107 --> Accuracy:  0.9607843160629272\n"
          ]
        }
      ]
    },
    {
      "cell_type": "code",
      "metadata": {
        "id": "7rv23Ud6fNm6"
      },
      "source": [
        ""
      ],
      "execution_count": null,
      "outputs": []
    }
  ]
}