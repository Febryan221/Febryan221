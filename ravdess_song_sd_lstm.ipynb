{
  "cells": [
    {
      "cell_type": "markdown",
      "metadata": {
        "colab_type": "text",
        "id": "view-in-github"
      },
      "source": [
        "<a href=\"https://colab.research.google.com/github/bagustris/ravdess_song/blob/main/ravdess_song_sd_fc.ipynb\" target=\"_parent\"><img src=\"https://colab.research.google.com/assets/colab-badge.svg\" alt=\"Open In Colab\"/></a>"
      ]
    },
    {
      "cell_type": "markdown",
      "metadata": {
        "id": "ZcelxTz8sT6q"
      },
      "source": [
        "# RAVDESS Song Emotion Recognition with LSTM \n",
        "Acoustic features are loaded directly from data directory"
      ]
    },
    {
      "cell_type": "code",
      "execution_count": 1,
      "metadata": {
        "id": "rbMKAfNesYuy"
      },
      "outputs": [],
      "source": [
        "import glob\n",
        "import os\n",
        "import librosa\n",
        "import numpy as np\n",
        "from sklearn.model_selection import train_test_split\n",
        "import tensorflow as tf"
      ]
    },
    {
      "cell_type": "code",
      "execution_count": 2,
      "metadata": {
        "colab": {
          "base_uri": "https://localhost:8080/"
        },
        "id": "8T0F32ZRCrAG",
        "outputId": "64b2574d-ab92-4aaa-8744-212e06801bba"
      },
      "outputs": [
        {
          "name": "stdout",
          "output_type": "stream",
          "text": [
            "Cloning into 'ravdess_song'...\n",
            "remote: Enumerating objects: 1116, done.\u001b[K\n",
            "remote: Counting objects: 100% (59/59), done.\u001b[K\n",
            "remote: Compressing objects: 100% (49/49), done.\u001b[K\n",
            "remote: Total 1116 (delta 28), reused 26 (delta 10), pack-reused 1057\u001b[K\n",
            "Receiving objects: 100% (1116/1116), 232.30 MiB | 24.49 MiB/s, done.\n",
            "Resolving deltas: 100% (32/32), done.\n",
            "Checking out files: 100% (1030/1030), done.\n"
          ]
        }
      ],
      "source": [
        "!git clone https://github.com/bagustris/ravdess_song.git"
      ]
    },
    {
      "cell_type": "code",
      "execution_count": 3,
      "metadata": {
        "colab": {
          "base_uri": "https://localhost:8080/"
        },
        "id": "b33LC9_DC0gv",
        "outputId": "7c351bce-b95e-4ee3-bcad-e83a8e26743e"
      },
      "outputs": [
        {
          "name": "stdout",
          "output_type": "stream",
          "text": [
            "/content/ravdess_song\n"
          ]
        }
      ],
      "source": [
        "cd ravdess_song/"
      ]
    },
    {
      "cell_type": "code",
      "execution_count": 5,
      "metadata": {
        "id": "EqT-75OvbIhJ"
      },
      "outputs": [],
      "source": [
        "# assign hsf to X, lab to y; reshape X for LSTM\n",
        "X = np.load('data/x.npy', allow_pickle=True)\n",
        "y = np.load('data/y.npy', allow_pickle=True)"
      ]
    },
    {
      "cell_type": "code",
      "execution_count": null,
      "metadata": {},
      "outputs": [],
      "source": [
        "# reshape x untuk lstm\n",
        "X = X.reshape((X.shape[0], 1, X.shape[1]))"
      ]
    },
    {
      "cell_type": "code",
      "execution_count": 6,
      "metadata": {
        "id": "o0mM3RbKcI82"
      },
      "outputs": [],
      "source": [
        "# split into train and test\n",
        "x_train, x_test, y_train, y_test = train_test_split(X, y, test_size=0.1)"
      ]
    },
    {
      "cell_type": "code",
      "execution_count": 10,
      "metadata": {
        "id": "aq0SbnHTcMGG"
      },
      "outputs": [],
      "source": [
        "# functio to build LSTM model\n",
        "def model_lstm():\n",
        "    model = tf.keras.models.Sequential()\n",
        "    model.add(tf.keras.layers.BatchNormalization(axis=-1,\n",
        "              input_shape=(x_train.shape[1], x_train.shape[2])))\n",
        "    model.add(tf.keras.layers.LSTM(256, return_sequences=True))\n",
        "    model.add(tf.keras.layers.LSTM(256, return_sequences=True))\n",
        "    model.add(tf.keras.layers.LSTM(256, return_sequences=True))\n",
        "    model.add(tf.keras.layers.Flatten())\n",
        "    model.add(tf.keras.layers.Dropout(0.4))\n",
        "    model.add(tf.keras.layers.Dense(6, activation='softmax'))\n",
        "\n",
        "    # compile model: set loss, optimizer, metric\n",
        "    model.compile(loss=tf.keras.losses.SparseCategoricalCrossentropy(),\n",
        "                  optimizer=tf.keras.optimizers.Adam(),\n",
        "                  metrics=['accuracy'])\n",
        "    return model"
      ]
    },
    {
      "cell_type": "code",
      "execution_count": 11,
      "metadata": {
        "colab": {
          "base_uri": "https://localhost:8080/"
        },
        "id": "-vT5MfXXcX2N",
        "outputId": "009f5ada-5c73-4742-d17b-452668895d35"
      },
      "outputs": [
        {
          "name": "stdout",
          "output_type": "stream",
          "text": [
            "Model: \"sequential_1\"\n",
            "_________________________________________________________________\n",
            "Layer (type)                 Output Shape              Param #   \n",
            "=================================================================\n",
            "batch_normalization (BatchNo (None, 386)               1544      \n",
            "_________________________________________________________________\n",
            "dense (Dense)                (None, 256)               99072     \n",
            "_________________________________________________________________\n",
            "dense_1 (Dense)              (None, 256)               65792     \n",
            "_________________________________________________________________\n",
            "dense_2 (Dense)              (None, 256)               65792     \n",
            "_________________________________________________________________\n",
            "dropout (Dropout)            (None, 256)               0         \n",
            "_________________________________________________________________\n",
            "dense_3 (Dense)              (None, 6)                 1542      \n",
            "=================================================================\n",
            "Total params: 233,742\n",
            "Trainable params: 232,970\n",
            "Non-trainable params: 772\n",
            "_________________________________________________________________\n",
            "None\n"
          ]
        }
      ],
      "source": [
        "# create the model\n",
        "model = model_lstm()\n",
        "print(model.summary())"
      ]
    },
    {
      "cell_type": "code",
      "execution_count": 12,
      "metadata": {
        "colab": {
          "base_uri": "https://localhost:8080/"
        },
        "id": "FXO6TWIFcbxA",
        "outputId": "ea68eedb-b4ef-429a-f5e5-202cfd03e3b4"
      },
      "outputs": [
        {
          "name": "stdout",
          "output_type": "stream",
          "text": [
            "Epoch 1/100\n",
            "57/57 [==============================] - 1s 4ms/step - loss: 1.2509 - accuracy: 0.4989\n",
            "Epoch 2/100\n",
            "57/57 [==============================] - 0s 4ms/step - loss: 0.5902 - accuracy: 0.7593\n",
            "Epoch 3/100\n",
            "57/57 [==============================] - 0s 4ms/step - loss: 0.4794 - accuracy: 0.8165\n",
            "Epoch 4/100\n",
            "57/57 [==============================] - 0s 4ms/step - loss: 0.3518 - accuracy: 0.8516\n",
            "Epoch 5/100\n",
            "57/57 [==============================] - 0s 4ms/step - loss: 0.2965 - accuracy: 0.8846\n",
            "Epoch 6/100\n",
            "57/57 [==============================] - 0s 4ms/step - loss: 0.2587 - accuracy: 0.9022\n",
            "Epoch 7/100\n",
            "57/57 [==============================] - 0s 4ms/step - loss: 0.2737 - accuracy: 0.8846\n",
            "Epoch 8/100\n",
            "57/57 [==============================] - 0s 3ms/step - loss: 0.2418 - accuracy: 0.9143\n",
            "Epoch 9/100\n",
            "57/57 [==============================] - 0s 4ms/step - loss: 0.2370 - accuracy: 0.9176\n",
            "Epoch 10/100\n",
            "57/57 [==============================] - 0s 4ms/step - loss: 0.2620 - accuracy: 0.8978\n",
            "Epoch 11/100\n",
            "57/57 [==============================] - 0s 4ms/step - loss: 0.1631 - accuracy: 0.9330\n",
            "Epoch 12/100\n",
            "57/57 [==============================] - 0s 4ms/step - loss: 0.2063 - accuracy: 0.9308\n",
            "Epoch 13/100\n",
            "57/57 [==============================] - 0s 4ms/step - loss: 0.1138 - accuracy: 0.9626\n",
            "Epoch 14/100\n",
            "57/57 [==============================] - 0s 4ms/step - loss: 0.1385 - accuracy: 0.9505\n",
            "Epoch 15/100\n",
            "57/57 [==============================] - 0s 4ms/step - loss: 0.1391 - accuracy: 0.9484\n",
            "Epoch 16/100\n",
            "57/57 [==============================] - 0s 4ms/step - loss: 0.1084 - accuracy: 0.9659\n",
            "Epoch 17/100\n",
            "57/57 [==============================] - 0s 4ms/step - loss: 0.1171 - accuracy: 0.9604\n",
            "Epoch 18/100\n",
            "57/57 [==============================] - 0s 4ms/step - loss: 0.1101 - accuracy: 0.9604\n",
            "Epoch 19/100\n",
            "57/57 [==============================] - 0s 4ms/step - loss: 0.1347 - accuracy: 0.9527\n",
            "Epoch 20/100\n",
            "57/57 [==============================] - 0s 4ms/step - loss: 0.1439 - accuracy: 0.9527\n",
            "Epoch 21/100\n",
            "57/57 [==============================] - 0s 4ms/step - loss: 0.1376 - accuracy: 0.9560\n",
            "Epoch 22/100\n",
            "57/57 [==============================] - 0s 4ms/step - loss: 0.0782 - accuracy: 0.9681\n",
            "Epoch 23/100\n",
            "57/57 [==============================] - 0s 4ms/step - loss: 0.1072 - accuracy: 0.9615\n",
            "Epoch 24/100\n",
            "57/57 [==============================] - 0s 4ms/step - loss: 0.1017 - accuracy: 0.9615\n",
            "Epoch 25/100\n",
            "57/57 [==============================] - 0s 4ms/step - loss: 0.0682 - accuracy: 0.9758\n",
            "Epoch 26/100\n",
            "57/57 [==============================] - 0s 4ms/step - loss: 0.1164 - accuracy: 0.9560\n",
            "Epoch 27/100\n",
            "57/57 [==============================] - 0s 4ms/step - loss: 0.0557 - accuracy: 0.9824\n",
            "Epoch 28/100\n",
            "57/57 [==============================] - 0s 4ms/step - loss: 0.0547 - accuracy: 0.9791\n",
            "Epoch 29/100\n",
            "57/57 [==============================] - 0s 4ms/step - loss: 0.0841 - accuracy: 0.9703\n",
            "Epoch 30/100\n",
            "57/57 [==============================] - 0s 4ms/step - loss: 0.0519 - accuracy: 0.9813\n",
            "Epoch 31/100\n",
            "57/57 [==============================] - 0s 4ms/step - loss: 0.0849 - accuracy: 0.9769\n",
            "Epoch 32/100\n",
            "57/57 [==============================] - 0s 4ms/step - loss: 0.1397 - accuracy: 0.9473\n",
            "Epoch 33/100\n",
            "57/57 [==============================] - 0s 4ms/step - loss: 0.0475 - accuracy: 0.9868\n",
            "Epoch 34/100\n",
            "57/57 [==============================] - 0s 4ms/step - loss: 0.0581 - accuracy: 0.9802\n",
            "Epoch 35/100\n",
            "57/57 [==============================] - 0s 4ms/step - loss: 0.0974 - accuracy: 0.9692\n",
            "Epoch 36/100\n",
            "57/57 [==============================] - 0s 4ms/step - loss: 0.0522 - accuracy: 0.9813\n",
            "Epoch 37/100\n",
            "57/57 [==============================] - 0s 4ms/step - loss: 0.0717 - accuracy: 0.9703\n",
            "Epoch 38/100\n",
            "57/57 [==============================] - 0s 4ms/step - loss: 0.0425 - accuracy: 0.9879\n",
            "Epoch 39/100\n",
            "57/57 [==============================] - 0s 4ms/step - loss: 0.0531 - accuracy: 0.9824\n",
            "Epoch 40/100\n",
            "57/57 [==============================] - 0s 4ms/step - loss: 0.0589 - accuracy: 0.9824\n",
            "Epoch 41/100\n",
            "57/57 [==============================] - 0s 4ms/step - loss: 0.0309 - accuracy: 0.9923\n",
            "Epoch 42/100\n",
            "57/57 [==============================] - 0s 4ms/step - loss: 0.0299 - accuracy: 0.9901\n",
            "Epoch 43/100\n",
            "57/57 [==============================] - 0s 4ms/step - loss: 0.1102 - accuracy: 0.9648\n",
            "Epoch 44/100\n",
            "57/57 [==============================] - 0s 4ms/step - loss: 0.0830 - accuracy: 0.9714\n",
            "Epoch 45/100\n",
            "57/57 [==============================] - 0s 4ms/step - loss: 0.0444 - accuracy: 0.9824\n",
            "Epoch 46/100\n",
            "57/57 [==============================] - 0s 4ms/step - loss: 0.0540 - accuracy: 0.9802\n",
            "Epoch 47/100\n",
            "57/57 [==============================] - 0s 4ms/step - loss: 0.1014 - accuracy: 0.9681\n",
            "Epoch 48/100\n",
            "57/57 [==============================] - 0s 4ms/step - loss: 0.0406 - accuracy: 0.9879\n",
            "Epoch 49/100\n",
            "57/57 [==============================] - 0s 4ms/step - loss: 0.0772 - accuracy: 0.9769\n",
            "Epoch 50/100\n",
            "57/57 [==============================] - 0s 4ms/step - loss: 0.0471 - accuracy: 0.9802\n",
            "Epoch 51/100\n",
            "57/57 [==============================] - 0s 4ms/step - loss: 0.0489 - accuracy: 0.9846\n",
            "Epoch 52/100\n",
            "57/57 [==============================] - 0s 4ms/step - loss: 0.0248 - accuracy: 0.9901\n",
            "Epoch 53/100\n",
            "57/57 [==============================] - 0s 4ms/step - loss: 0.0254 - accuracy: 0.9923\n",
            "Epoch 54/100\n",
            "57/57 [==============================] - 0s 4ms/step - loss: 0.0664 - accuracy: 0.9758\n",
            "Epoch 55/100\n",
            "57/57 [==============================] - 0s 4ms/step - loss: 0.0678 - accuracy: 0.9780\n",
            "Epoch 56/100\n",
            "57/57 [==============================] - 0s 4ms/step - loss: 0.0729 - accuracy: 0.9769\n",
            "Epoch 57/100\n",
            "57/57 [==============================] - 0s 4ms/step - loss: 0.0460 - accuracy: 0.9868\n",
            "Epoch 58/100\n",
            "57/57 [==============================] - 0s 4ms/step - loss: 0.0428 - accuracy: 0.9868\n",
            "Epoch 59/100\n",
            "57/57 [==============================] - 0s 4ms/step - loss: 0.0710 - accuracy: 0.9747\n",
            "Epoch 60/100\n",
            "57/57 [==============================] - 0s 4ms/step - loss: 0.0631 - accuracy: 0.9835\n",
            "Epoch 61/100\n",
            "57/57 [==============================] - 0s 4ms/step - loss: 0.0296 - accuracy: 0.9923\n",
            "Epoch 62/100\n",
            "57/57 [==============================] - 0s 4ms/step - loss: 0.0515 - accuracy: 0.9802\n",
            "Epoch 63/100\n",
            "57/57 [==============================] - 0s 4ms/step - loss: 0.0427 - accuracy: 0.9879\n",
            "Epoch 64/100\n",
            "57/57 [==============================] - 0s 4ms/step - loss: 0.0243 - accuracy: 0.9923\n",
            "Epoch 65/100\n",
            "57/57 [==============================] - 0s 4ms/step - loss: 0.0218 - accuracy: 0.9912\n",
            "Epoch 66/100\n",
            "57/57 [==============================] - 0s 4ms/step - loss: 0.0240 - accuracy: 0.9934\n",
            "Epoch 67/100\n",
            "57/57 [==============================] - 0s 4ms/step - loss: 0.0380 - accuracy: 0.9912\n",
            "Epoch 68/100\n",
            "57/57 [==============================] - 0s 4ms/step - loss: 0.0152 - accuracy: 0.9967\n",
            "Epoch 69/100\n",
            "57/57 [==============================] - 0s 4ms/step - loss: 0.0589 - accuracy: 0.9846\n",
            "Epoch 70/100\n",
            "57/57 [==============================] - 0s 4ms/step - loss: 0.0924 - accuracy: 0.9725\n",
            "Epoch 71/100\n",
            "57/57 [==============================] - 0s 4ms/step - loss: 0.0204 - accuracy: 0.9956\n",
            "Epoch 72/100\n",
            "57/57 [==============================] - 0s 4ms/step - loss: 0.0250 - accuracy: 0.9923\n",
            "Epoch 73/100\n",
            "57/57 [==============================] - 0s 4ms/step - loss: 0.0255 - accuracy: 0.9945\n",
            "Epoch 74/100\n",
            "57/57 [==============================] - 0s 4ms/step - loss: 0.0358 - accuracy: 0.9901\n",
            "Epoch 75/100\n",
            "57/57 [==============================] - 0s 4ms/step - loss: 0.0561 - accuracy: 0.9868\n",
            "Epoch 76/100\n",
            "57/57 [==============================] - 0s 4ms/step - loss: 0.0677 - accuracy: 0.9846\n",
            "Epoch 77/100\n",
            "57/57 [==============================] - 0s 4ms/step - loss: 0.0568 - accuracy: 0.9813\n",
            "Epoch 78/100\n",
            "57/57 [==============================] - 0s 4ms/step - loss: 0.0383 - accuracy: 0.9857\n",
            "Epoch 79/100\n",
            "57/57 [==============================] - 0s 4ms/step - loss: 0.0768 - accuracy: 0.9846\n",
            "Epoch 80/100\n",
            "57/57 [==============================] - 0s 4ms/step - loss: 0.0314 - accuracy: 0.9890\n",
            "Epoch 81/100\n",
            "57/57 [==============================] - 0s 4ms/step - loss: 0.0304 - accuracy: 0.9879\n",
            "Epoch 82/100\n",
            "57/57 [==============================] - 0s 4ms/step - loss: 0.0541 - accuracy: 0.9857\n",
            "Epoch 83/100\n",
            "57/57 [==============================] - 0s 4ms/step - loss: 0.0282 - accuracy: 0.9912\n",
            "Epoch 84/100\n",
            "57/57 [==============================] - 0s 4ms/step - loss: 0.0361 - accuracy: 0.9890\n",
            "Epoch 85/100\n",
            "57/57 [==============================] - 0s 4ms/step - loss: 0.0624 - accuracy: 0.9813\n",
            "Epoch 86/100\n",
            "57/57 [==============================] - 0s 4ms/step - loss: 0.0454 - accuracy: 0.9879\n",
            "Epoch 87/100\n",
            "57/57 [==============================] - 0s 4ms/step - loss: 0.0296 - accuracy: 0.9879\n",
            "Epoch 88/100\n",
            "57/57 [==============================] - 0s 4ms/step - loss: 0.0307 - accuracy: 0.9934\n",
            "Epoch 89/100\n",
            "57/57 [==============================] - 0s 4ms/step - loss: 0.0290 - accuracy: 0.9912\n",
            "Epoch 90/100\n",
            "57/57 [==============================] - 0s 4ms/step - loss: 0.0131 - accuracy: 0.9945\n",
            "Epoch 91/100\n",
            "57/57 [==============================] - 0s 4ms/step - loss: 0.0605 - accuracy: 0.9846\n",
            "Epoch 92/100\n",
            "57/57 [==============================] - 0s 4ms/step - loss: 0.1070 - accuracy: 0.9692\n",
            "Epoch 93/100\n",
            "57/57 [==============================] - 0s 4ms/step - loss: 0.0461 - accuracy: 0.9857\n",
            "Epoch 94/100\n",
            "57/57 [==============================] - 0s 4ms/step - loss: 0.0174 - accuracy: 0.9945\n",
            "Epoch 95/100\n",
            "57/57 [==============================] - 0s 4ms/step - loss: 0.0193 - accuracy: 0.9956\n",
            "Epoch 96/100\n",
            "57/57 [==============================] - 0s 4ms/step - loss: 0.0165 - accuracy: 0.9945\n",
            "Epoch 97/100\n",
            "57/57 [==============================] - 0s 4ms/step - loss: 0.0336 - accuracy: 0.9879\n",
            "Epoch 98/100\n",
            "57/57 [==============================] - 0s 4ms/step - loss: 0.0270 - accuracy: 0.9901\n",
            "Epoch 99/100\n",
            "57/57 [==============================] - 0s 4ms/step - loss: 0.0291 - accuracy: 0.9945\n",
            "Epoch 100/100\n",
            "57/57 [==============================] - 0s 4ms/step - loss: 0.0574 - accuracy: 0.9868\n"
          ]
        }
      ],
      "source": [
        "# train the Dense model\n",
        "hist = model.fit(x_train, y_train, epochs=100, shuffle=True, batch_size=16)"
      ]
    },
    {
      "cell_type": "code",
      "execution_count": 13,
      "metadata": {
        "colab": {
          "base_uri": "https://localhost:8080/"
        },
        "id": "Fnlc0bficqpE",
        "outputId": "d68e0b38-4ff3-4d81-ea98-00f637ed51c9"
      },
      "outputs": [
        {
          "name": "stdout",
          "output_type": "stream",
          "text": [
            "7/7 [==============================] - 0s 2ms/step - loss: 0.8785 - accuracy: 0.8431\n",
            "Loss:  0.8784763216972351 --> Accuracy:  0.843137264251709\n"
          ]
        }
      ],
      "source": [
        "evaluate = model.evaluate(x_test, y_test, batch_size=16)\n",
        "print(\"Loss: \", evaluate[0], \"--> Accuracy: \", evaluate[1])"
      ]
    },
    {
      "cell_type": "code",
      "execution_count": null,
      "metadata": {
        "id": "7rv23Ud6fNm6"
      },
      "outputs": [],
      "source": []
    }
  ],
  "metadata": {
    "colab": {
      "authorship_tag": "ABX9TyOuCExx097fsnN9olbMT/yI",
      "include_colab_link": true,
      "name": "Untitled0.ipynb",
      "provenance": []
    },
    "kernelspec": {
      "display_name": "Python 3.7.11 64-bit",
      "name": "python3711jvsc74a57bd0fd69f43f58546b570e94fd7eba7b65e6bcc7a5bbc4eab0408017d18902915d69"
    },
    "language_info": {
      "name": "python",
      "version": ""
    },
    "metadata": {
      "interpreter": {
        "hash": "fd69f43f58546b570e94fd7eba7b65e6bcc7a5bbc4eab0408017d18902915d69"
      }
    }
  },
  "nbformat": 4,
  "nbformat_minor": 0
}
